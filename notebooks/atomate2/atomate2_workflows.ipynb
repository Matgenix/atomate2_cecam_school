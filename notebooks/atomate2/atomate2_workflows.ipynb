{
 "cells": [
  {
   "cell_type": "markdown",
   "id": "a4d7a872-48a7-4aa8-90a4-86a89ec1b460",
   "metadata": {},
   "source": [
    "# Atomate2 introduction"
   ]
  },
  {
   "cell_type": "markdown",
   "id": "896c7251-767e-4f39-bb6e-5eb79371084b",
   "metadata": {},
   "source": [
    "Atomate2 is an open-source library providing computational workflows for automating first-principles calculations.\n",
    "\n",
    "## Supported DFT Codes\n",
    "\n",
    "- ABINIT\n",
    "- CP2K\n",
    "- FHI-AIMS\n",
    "- JDFTx\n",
    "- Q-Chem\n",
    "- VASP\n",
    "\n",
    "  \n",
    "## Workflows\n",
    "\n",
    "Some of the workflows available in atomate2 are:\n",
    "\n",
    "- electronic band structures\n",
    "- elastic, dielectric, and piezoelectric tensors\n",
    "- one-shot electron-phonon interactions\n",
    "- electronic transport using [AMSET](https://hackingmaterials.lbl.gov/amset/)\n",
    "- phonons and Grüneisen parameter computations using [phonopy](https://github.com/phonopy/phonopy)\n",
    "- defect formation energy diagrams\n",
    "- [Lobster](http://www.cohp.de/) bonding analysis with [LobsterPy](https://github.com/JaGeo/LobsterPy)\n",
    "\n",
    "## MLIP based workflows\n",
    "\n",
    "Workflows using MLIPs like MACE, CHGNET, M3GNET, GAP, NEP, SevenNet are available for:\n",
    "\n",
    "- phonons and Grüneisen parameter computations\n",
    "- elastic tensors\n",
    "\n",
    "\n",
    "It is easy to customise and compose any of the above workflows."
   ]
  },
  {
   "cell_type": "markdown",
   "id": "0b9779d7-f842-4c1e-b885-10a919484dd2",
   "metadata": {},
   "source": [
    "# Installation and Setup "
   ]
  },
  {
   "cell_type": "markdown",
   "id": "e5d2b109-6e2c-4abc-a290-0cbd5bb8c928",
   "metadata": {},
   "source": [
    "Typically, before starting to use workflows available in atomate2, you will need to create an python environment with necessary packages and also set some configuration files where you specify details like path to VASP binary, your database information like collection names, username, password etc. You can find this in the [atomate2 documentation](https://materialsproject.github.io/atomate2/user/install.html). If interested in specifics , let us know we are happy to provide more information.\n",
    "\n",
    "\n",
    "For this school this has been setup already for you, so we can directly create workflows and submit it to the hpc-cluster. One can also use [Fireworks](https://materialsproject.github.io/atomate2/user/fireworks.html) to manage and execute your workflows. In this school we will use [jobflow-remote](https://github.com/Matgenix/jobflow-remote) for managing and submitting our workflows which has been introduced in earlier sessions. "
   ]
  },
  {
   "cell_type": "markdown",
   "id": "75891204-18d3-43ab-86a6-b5b07651e187",
   "metadata": {},
   "source": [
    "# Running a Phonon workflow with VASP and accessing the results"
   ]
  },
  {
   "cell_type": "code",
   "execution_count": null,
   "id": "fcda0b01-6956-4bda-96bc-f1cc281936a8",
   "metadata": {},
   "outputs": [],
   "source": [
    "from pymatviz.structure_viz import structure_3d_plotly\n",
    "from atomate2.vasp.flows.phonons import PhononMaker\n",
    "from atomate2.vasp.powerups import add_metadata_to_flow\n",
    "from pymatgen.core import Structure\n",
    "from jobflow_remote import submit_flow"
   ]
  },
  {
   "cell_type": "code",
   "execution_count": null,
   "id": "0be1c4a4-fd01-43de-a230-03666e87b87b",
   "metadata": {},
   "outputs": [],
   "source": [
    "# Read si structure\n",
    "si_structure = Structure.from_file(\"Si.vasp\")"
   ]
  },
  {
   "cell_type": "code",
   "execution_count": null,
   "id": "d7a8169e-4339-4056-a335-97e5da95c5ff",
   "metadata": {},
   "outputs": [],
   "source": [
    "structure_3d_plotly(si_structure)"
   ]
  },
  {
   "cell_type": "code",
   "execution_count": null,
   "id": "675b5ea9-8012-4d78-8454-b4ba6966fa4c",
   "metadata": {},
   "outputs": [],
   "source": [
    "# make a Phonon flow to optimise the structure and obtain the Phonon bandstructure\n",
    "# It is possible to further customize calculation parameters, but for this case we stick to defaults\n",
    "phonon_flow = PhononMaker(\n",
    "    min_length=3.0, # here we set small supercell length for faster calculations (ideally you would use 15-20 angstroms supercell)\n",
    "    use_symmetrized_structure=\"conventional\",\n",
    "    create_thermal_displacements=False,\n",
    "    store_force_constants=False,\n",
    "    prefer_90_degrees=False,\n",
    "    generate_frequencies_eigenvectors_kwargs={\"tstep\": 100, \"band_structure_eigenvectors\": False},\n",
    ").make(si_structure)"
   ]
  },
  {
   "cell_type": "code",
   "execution_count": null,
   "id": "3943a63e-b452-4d58-990f-a19aa637fae5",
   "metadata": {},
   "outputs": [],
   "source": [
    "resources={\"nodes\": 1 , \"ntasks\": 36, \"time\": \"03:00:00\"} # define the resources for the jobs in flow"
   ]
  },
  {
   "cell_type": "code",
   "execution_count": null,
   "id": "297c7480-5c1c-4e05-8e0b-c6edfdc22121",
   "metadata": {},
   "outputs": [],
   "source": [
    "submit_flow(phonon_flow, worker=\"cecam\", resources=resources, exec_config=\"vasp_6.4.3_cecam\") # set the resources for job execution"
   ]
  },
  {
   "cell_type": "markdown",
   "id": "e3f99bc9-adc7-4c02-a912-a15f7bf0ef48",
   "metadata": {},
   "source": [
    "```bash\n",
    "jf runner start # this is optional (if the jobflow remote runner is running not needed to execute)\n",
    "```"
   ]
  },
  {
   "cell_type": "code",
   "execution_count": null,
   "id": "a3198b62-c8b4-4325-bac3-1db9e3842145",
   "metadata": {},
   "outputs": [],
   "source": [
    "# get overview of the list of jobs added and its status\n",
    "! jf job list"
   ]
  },
  {
   "cell_type": "markdown",
   "id": "cf2118cc-715c-46ac-ba53-370d3726da75",
   "metadata": {},
   "source": [
    "If you prefer to monitor jobs via a graphical user interface simply run. This should start a gui server which can be opened in a browser\n",
    "\n",
    "```bash\n",
    "jf gui\n",
    "```"
   ]
  },
  {
   "cell_type": "markdown",
   "id": "6826662b-0764-4f83-980b-68f5ce4339c9",
   "metadata": {},
   "source": [
    "## Accessing the phonon workflow results from the database and plotting"
   ]
  },
  {
   "cell_type": "markdown",
   "id": "03014003-c404-4895-877a-004388a215bc",
   "metadata": {},
   "source": [
    "Each of the atomate2 workflows mostly have a associated [Taskdocument](https://materialsproject.github.io/atomate2/user/key_concepts_overview.html) generated for specific type of calculations. The Taskdocument can be understood simply as summary of most important results from the calculation.\n",
    "\n",
    "For phonon workflow, the taskdocument is named as [PhononBSDOSDoc](https://github.com/materialsproject/atomate2/blob/b8ff9f444bcecaac474f3779acd83ee3b5ad4ae1/src/atomate2/common/schemas/phonons.py#L136). \n",
    "\n",
    "So now, we will access this document which is stored in the database after successful run of the workflow."
   ]
  },
  {
   "cell_type": "code",
   "execution_count": null,
   "id": "bb46e984-8d12-4329-9508-08ad12906a37",
   "metadata": {},
   "outputs": [],
   "source": [
    "from jobflow_remote import get_jobstore\n",
    "from monty.serialization import MontyDecoder\n",
    "from pymatgen.phonon.bandstructure import PhononBandStructureSymmLine\n",
    "from pymatgen.phonon.dos import PhononDos\n",
    "from pymatgen.phonon.plotter import PhononBSPlotter, PhononDosPlotter"
   ]
  },
  {
   "cell_type": "code",
   "execution_count": null,
   "id": "6f5d42a3-32d5-4ce5-8729-ebd7605a9690",
   "metadata": {},
   "outputs": [],
   "source": [
    "# connect to the database where the results are stored\n",
    "jobstore = get_jobstore()\n",
    "jobstore.connect()"
   ]
  },
  {
   "cell_type": "code",
   "execution_count": null,
   "id": "e11666a6-3d32-4494-90ab-162fff3db687",
   "metadata": {},
   "outputs": [],
   "source": [
    "# get output doc\n",
    "\n",
    "result = jobstore.query(criteria={\"metadata.db_id\": \"17\"}, load=True)\n",
    "\n",
    "for res in result:\n",
    "    output_doc = MontyDecoder().process_decoded(res)"
   ]
  },
  {
   "cell_type": "code",
   "execution_count": null,
   "id": "866f3ca5-42f1-47a5-8e7c-a768b951b2d0",
   "metadata": {},
   "outputs": [],
   "source": [
    "# initialize dos plotter and visualize dos plot\n",
    "dos_plot = PhononDosPlotter()\n",
    "dos_plot.add_dos(label=\"Total Dos\", dos=output_doc.output.phonon_dos)\n",
    "dos_plot.get_plot();\n",
    "\n",
    "# initialize Phonon bandstructure plotter and visualize band structure plot\n",
    "bs_plot = PhononBSPlotter(bs=output_doc.output.phonon_bandstructure)\n",
    "bs_plot.get_plot();"
   ]
  },
  {
   "cell_type": "markdown",
   "id": "ca10bb85-7e42-46d1-bcee-88d72fad5e78",
   "metadata": {},
   "source": [
    "# Running a Lobster workflow with VASP and accessing the results"
   ]
  },
  {
   "cell_type": "code",
   "execution_count": null,
   "id": "8fd4c75b-3a99-4d8e-b8fd-f9c05bd54366",
   "metadata": {},
   "outputs": [],
   "source": [
    "from pymatviz.structure_viz import structure_3d_plotly\n",
    "from atomate2.vasp.flows.mp import MPVaspLobsterMaker\n",
    "from atomate2.vasp.powerups import add_metadata_to_flow, update_user_incar_settings\n",
    "from pymatgen.core import Structure\n",
    "from jobflow_remote import submit_flow"
   ]
  },
  {
   "cell_type": "code",
   "execution_count": null,
   "id": "6983ec36-f051-4902-b7c5-2af5f88cb8ed",
   "metadata": {},
   "outputs": [],
   "source": [
    "# Read AlAgS2 structure\n",
    "AlAgS2_structure = Structure.from_file(\"AlAgS2.vasp\").get_primitive_structure()"
   ]
  },
  {
   "cell_type": "code",
   "execution_count": null,
   "id": "a9b907da-e373-45d9-bf0a-0fb42db0f7c5",
   "metadata": {},
   "outputs": [],
   "source": [
    "structure_3d_plotly(AlAgS2_structure)"
   ]
  },
  {
   "cell_type": "code",
   "execution_count": null,
   "id": "f9a65e93-29c0-4b78-b3a7-cefd440789e9",
   "metadata": {},
   "outputs": [],
   "source": [
    "lobster_flow = MPVaspLobsterMaker(relax_maker=None).make(structure=AlAgS2_structure)\n",
    "\n",
    "lobster_flow = update_user_incar_settings(lobster_flow, {\"NPAR\": 6, \"ALGO\": \"FAST\"})"
   ]
  },
  {
   "cell_type": "code",
   "execution_count": null,
   "id": "395d6143-62bb-4bd5-a586-3f3e1b0c8402",
   "metadata": {},
   "outputs": [],
   "source": [
    "resources={\"nodes\": 1 , \"ntasks\": 36, \"time\": \"03:00:00\"} # define the resources for the jobs in flow"
   ]
  },
  {
   "cell_type": "code",
   "execution_count": null,
   "id": "9a337989-75c4-4008-a025-570b29d25e03",
   "metadata": {},
   "outputs": [],
   "source": [
    "submit_flow(lobster_flow, worker=\"cecam\", resources=resources, exec_config=\"vasp_6.4.3_cecam\") # set the resources for job execution"
   ]
  },
  {
   "cell_type": "code",
   "execution_count": null,
   "id": "e09005b4-c188-453d-811f-1c2fef07a79d",
   "metadata": {},
   "outputs": [],
   "source": [
    "# get overview of the list of jobs added and its status\n",
    "! jf job list"
   ]
  },
  {
   "cell_type": "markdown",
   "id": "3e0a772d-9e83-4adb-a783-aa71e212f391",
   "metadata": {},
   "source": [
    "## Accessing the lobster workflow results from the database and plotting"
   ]
  },
  {
   "cell_type": "markdown",
   "id": "07197eb7-b657-457b-81d7-2aaf6889bea1",
   "metadata": {},
   "source": [
    "For Lobster workflow, the taskdocument is named as [LobsterTaskDocument](https://github.com/materialsproject/atomate2/blob/b8ff9f444bcecaac474f3779acd83ee3b5ad4ae1/src/atomate2/lobster/schemas.py#L640).\n",
    "\n",
    "So now, we will access this document which is stored in the database after successful run of the workflow."
   ]
  },
  {
   "cell_type": "code",
   "execution_count": null,
   "id": "750fcf4b-fbe6-451f-ae1b-097d557d0bf0",
   "metadata": {},
   "outputs": [],
   "source": [
    "from jobflow_remote import get_jobstore\n",
    "from monty.serialization import MontyDecoder\n",
    "from pymatgen.electronic_structure.cohp import Cohp\n",
    "from lobsterpy.plotting import PlainCohpPlotter, InteractiveCohpPlotter"
   ]
  },
  {
   "cell_type": "code",
   "execution_count": null,
   "id": "a67d790d-e7f4-4e20-9276-f3d6a5bcba26",
   "metadata": {},
   "outputs": [],
   "source": [
    "# connect to the database where the results are stored\n",
    "jobstore = get_jobstore()\n",
    "jobstore.connect()"
   ]
  },
  {
   "cell_type": "code",
   "execution_count": null,
   "id": "0248c140-7717-4a8e-bb96-5f00402a8290",
   "metadata": {},
   "outputs": [],
   "source": [
    "# get output doc\n",
    "result = jobstore.query(criteria={\"metadata.db_id\": \"6\"}, load=True)\n",
    "\n",
    "for res in result:\n",
    "    output_doc = MontyDecoder().process_decoded(res)"
   ]
  },
  {
   "cell_type": "code",
   "execution_count": null,
   "id": "d5e831ff-e0de-4adc-bfb1-e549befb3e1d",
   "metadata": {},
   "outputs": [],
   "source": [
    "for key, cohp in output_doc.output.lobsterpy_data_cation_anion.cohp_plot_data.data.items():\n",
    "    plotter = PlainCohpPlotter()\n",
    "    plotter.add_cohp(key, cohp)\n",
    "    plotter.get_plot(sigma=0.05, ylim=[-10,5])"
   ]
  },
  {
   "cell_type": "code",
   "execution_count": null,
   "id": "084d7c5c-14f0-435e-9ba9-e855ca39c1c0",
   "metadata": {},
   "outputs": [],
   "source": [
    "# access text description\n",
    "output_doc.output.lobsterpy_text_cation_anion"
   ]
  },
  {
   "cell_type": "code",
   "execution_count": null,
   "id": "07e8b234-59c7-4a86-9066-0227ae8d9b8a",
   "metadata": {},
   "outputs": [],
   "source": [
    "# access calculation quality summary\n",
    "output_doc.output.calc_quality_text"
   ]
  }
 ],
 "metadata": {
  "kernelspec": {
   "display_name": "Python 3 (ipykernel)",
   "language": "python",
   "name": "python3"
  },
  "language_info": {
   "codemirror_mode": {
    "name": "ipython",
    "version": 3
   },
   "file_extension": ".py",
   "mimetype": "text/x-python",
   "name": "python",
   "nbconvert_exporter": "python",
   "pygments_lexer": "ipython3",
   "version": "3.10.16"
  }
 },
 "nbformat": 4,
 "nbformat_minor": 5
}
