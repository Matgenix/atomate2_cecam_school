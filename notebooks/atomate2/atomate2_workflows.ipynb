{
 "cells": [
  {
   "cell_type": "markdown",
   "id": "a4d7a872-48a7-4aa8-90a4-86a89ec1b460",
   "metadata": {},
   "source": [
    "# Atomate2 introduction"
   ]
  },
  {
   "cell_type": "markdown",
   "id": "896c7251-767e-4f39-bb6e-5eb79371084b",
   "metadata": {
    "jp-MarkdownHeadingCollapsed": true
   },
   "source": [
    "Atomate2 is an open-source library providing computational workflows for automating first-principles calculations.\n",
    "\n",
    "## Supported DFT Codes\n",
    "\n",
    "- ABINIT\n",
    "- CP2K\n",
    "- FHI-AIMS\n",
    "- JDFTx\n",
    "- Q-Chem\n",
    "- VASP\n",
    "\n",
    "  \n",
    "## Workflows\n",
    "\n",
    "Some of the workflows available in atomate2 are:\n",
    "\n",
    "- electronic band structures\n",
    "- elastic, dielectric, and piezoelectric tensors\n",
    "- one-shot electron-phonon interactions\n",
    "- electronic transport using [AMSET](https://hackingmaterials.lbl.gov/amset/)\n",
    "- phonons and Grüneisen parameter computations using [phonopy](https://github.com/phonopy/phonopy)\n",
    "- defect formation energy diagrams\n",
    "- [Lobster](http://www.cohp.de/) bonding analysis with [LobsterPy](https://github.com/JaGeo/LobsterPy)\n",
    "\n",
    "## MLIP based workflows\n",
    "\n",
    "Workflows using MLIPs like MACE, CHGNET, M3GNET, GAP, NEP, SevenNet are available for:\n",
    "\n",
    "- phonons and Grüneisen parameter computations\n",
    "- elastic tensors\n",
    "\n",
    "\n",
    "It is easy to customise and compose any of the above workflows."
   ]
  },
  {
   "cell_type": "markdown",
   "id": "0b9779d7-f842-4c1e-b885-10a919484dd2",
   "metadata": {},
   "source": [
    "# Installation and Setup "
   ]
  },
  {
   "cell_type": "markdown",
   "id": "e5d2b109-6e2c-4abc-a290-0cbd5bb8c928",
   "metadata": {},
   "source": [
    "Typically, before using workflows available in atomate2, you will need to create a Python environment with the necessary packages and set some configuration files where you specify details like a path to VASP binary and your database information like collection names, usernames, passwords, etc. You can find this in the [atomate2 documentation](https://materialsproject.github.io/atomate2/user/install.html). If you are interested in specifics, let us know, and we will be happy to provide more information.\n",
    "\n",
    "\n",
    "This has already been set up for you at this school, so we can directly create workflows and submit them to the HPC cluster. To manage and execute your workflows, you can also use [Fireworks](https://materialsproject.github.io/atomate2/user/fireworks.html). However, we will use [jobflow-remote](https://github.com/Matgenix/jobflow-remote), which was introduced in earlier sessions. "
   ]
  },
  {
   "cell_type": "markdown",
   "id": "5a6935ba-facd-43d7-816d-6739e48e19bd",
   "metadata": {},
   "source": [
    "# Workflows"
   ]
  },
  {
   "cell_type": "markdown",
   "id": "62a3714e-e4c4-44b8-88aa-2eb145bc0b90",
   "metadata": {},
   "source": [
    "A Workflow is basically a sequence of tasks where the connectivity, execution order, and dependencies of the different subtasks are predefined using `Flow` or `job` objects. For writing the inputs and parsing (reading) the outputs of calculations, atomate2 mainly relies on [pymatgen](https://github.com/materialsproject/pymatgen) and [ase](https://gitlab.com/ase/ase) packages. Thus it might be beneficial to get familiar with these packages. \n",
    "\n",
    "The output of a typical workflow in `atomate2` consists of a summary of the most relevant information for the specific calculation in a JSON serializable dict and is commonly referred to as a `TaskDocument`. The name of this `TaskDocument` and information contained within changes depending on the type of calculation and underlying calculator (e.g.:- DFT code, MLIP ) used in the Workflow.\n",
    "\n",
    "In this session, we will start from very simple workflows and gradually increase the complexity. "
   ]
  },
  {
   "cell_type": "markdown",
   "id": "1a247933-96fa-4df6-9f32-ba8d8e5960e8",
   "metadata": {},
   "source": [
    "## Running a  structure relaxation workflow"
   ]
  },
  {
   "cell_type": "code",
   "execution_count": null,
   "id": "412092f0-d4cf-4455-9c10-5eb0cfa60af9",
   "metadata": {},
   "outputs": [],
   "source": [
    "from pymatgen.core import Structure\n",
    "from atomate2.vasp.flows.core import DoubleRelaxMaker\n",
    "from jobflow_remote import submit_flow"
   ]
  },
  {
   "cell_type": "code",
   "execution_count": null,
   "id": "dc3137c8-40a6-4366-8ca4-8a033e88fc61",
   "metadata": {},
   "outputs": [],
   "source": [
    "# construct a rock salt MgO structure\n",
    "mgo_structure = Structure(\n",
    "    lattice=[[0, 2.13, 2.13], [2.13, 0, 2.13], [2.13, 2.13, 0]],\n",
    "    species=[\"Mg\", \"O\"],\n",
    "    coords=[[0, 0, 0], [0.5, 0.5, 0.5]],\n",
    ")"
   ]
  },
  {
   "cell_type": "markdown",
   "id": "392a61d8-b400-4653-a3b8-e219313f30f2",
   "metadata": {},
   "source": [
    "#### Check the customizable parameters for initializing the workflow"
   ]
  },
  {
   "cell_type": "code",
   "execution_count": null,
   "id": "6d4a2143-f42c-425d-8597-41f1465e7fc1",
   "metadata": {},
   "outputs": [],
   "source": [
    "DoubleRelaxMaker?"
   ]
  },
  {
   "cell_type": "code",
   "execution_count": null,
   "id": "8464d53a-38b7-4acf-ab02-97a0a25cd4df",
   "metadata": {},
   "outputs": [],
   "source": [
    "DoubleRelaxMaker.make?"
   ]
  },
  {
   "cell_type": "code",
   "execution_count": null,
   "id": "817d2fd8-ea2f-414d-8df4-fdaeb820da96",
   "metadata": {},
   "outputs": [],
   "source": [
    "relax_flow = DoubleRelaxMaker().make(structure=mgo_structure) # initialize the flow\n",
    "relax_flow.name = \"Relax Flow\" # one can also set a custom name to flow "
   ]
  },
  {
   "cell_type": "code",
   "execution_count": null,
   "id": "e7e417cd-089e-4043-9565-488eb581cc41",
   "metadata": {},
   "outputs": [],
   "source": [
    "resources={\"nodes\": 1 , \"ntasks\": 36, \"time\": \"03:00:00\"} # define the resources for the jobs in flow\n",
    "submit_flow(relax_flow, worker=\"cecam\", resources=resources, exec_config=\"vasp_6.4.3_cecam\") # set the resources for job execution"
   ]
  },
  {
   "cell_type": "code",
   "execution_count": null,
   "id": "caadd39c-060d-4295-bf2d-9fffb80ec4bf",
   "metadata": {},
   "outputs": [],
   "source": [
    "! jf runner start # optional"
   ]
  },
  {
   "cell_type": "code",
   "execution_count": null,
   "id": "6df8e789-8a4e-44f0-990b-3772f23c90b4",
   "metadata": {},
   "outputs": [],
   "source": [
    "!jf flow list # overview of flows added to the DB"
   ]
  },
  {
   "cell_type": "code",
   "execution_count": null,
   "id": "81a459eb-cdeb-4d7b-a6e3-eadac227c04d",
   "metadata": {},
   "outputs": [],
   "source": [
    "!jf job list # Get list of jobs in the DB"
   ]
  },
  {
   "cell_type": "markdown",
   "id": "04bd29bd-38ff-48ad-b4b7-afc154807eed",
   "metadata": {},
   "source": [
    "If you prefer to monitor jobs via a graphical user interface simply run. This should start a gui server which can be opened in a browser\n",
    "\n",
    "```bash\n",
    "jf gui\n",
    "```"
   ]
  },
  {
   "cell_type": "markdown",
   "id": "cd82e896-799d-43ef-804a-162d161bdf74",
   "metadata": {},
   "source": [
    "#### Access the relax workflow results from the database and download the optimized structure"
   ]
  },
  {
   "cell_type": "markdown",
   "id": "c9435e9a-370c-4167-971f-12469c0238d3",
   "metadata": {},
   "source": [
    "For core VASP jobs like the one here (Structure Relaxation), the TaskDocument reside in seperate library [emmet](https://github.com/materialsproject/emmet/tree/main) and is named as `TaskDoc` can details can be found [here\n",
    "](https://github.com/materialsproject/emmet/blob/947ecc8f63397786957d32f9f98ad1268242b324/emmet-core/emmet/core/tasks.py#L330)\n",
    "\n",
    "So now, we will access this document which is stored in the database after successful run of the workflow."
   ]
  },
  {
   "cell_type": "code",
   "execution_count": null,
   "id": "4f6549de-79d1-4433-9830-dac9f64e6793",
   "metadata": {},
   "outputs": [],
   "source": [
    "from jobflow_remote import get_jobstore\n",
    "from monty.serialization import MontyDecoder\n",
    "import matplotlib.pyplot as plt"
   ]
  },
  {
   "cell_type": "code",
   "execution_count": null,
   "id": "578d36d7-2e42-45d9-8f95-a020bfdd441e",
   "metadata": {},
   "outputs": [],
   "source": [
    "# connect to the database where the results are stored\n",
    "jobstore = get_jobstore()\n",
    "jobstore.connect()"
   ]
  },
  {
   "cell_type": "code",
   "execution_count": null,
   "id": "d722c3e4-799f-4908-a344-410f754e958a",
   "metadata": {},
   "outputs": [],
   "source": [
    "# get output\n",
    "relax1_doc = jobstore.get_output(uuid=relax_flow.jobs[0].uuid, load=True)\n",
    "\n",
    "# get python TaskDoc object from serialized output retrieved from DB\n",
    "task_doc_relax1 = MontyDecoder().process_decoded(relax1_doc)"
   ]
  },
  {
   "cell_type": "code",
   "execution_count": null,
   "id": "5904522e-af74-403e-b8c3-000744be3ea1",
   "metadata": {
    "scrolled": true
   },
   "outputs": [],
   "source": [
    "# get output\n",
    "relax2_doc = jobstore.get_output(uuid=relax_flow.jobs[1].uuid, load=True)\n",
    "\n",
    "# get python TaskDoc object from serialized output retrieved from DB\n",
    "task_doc_relax2 = MontyDecoder().process_decoded(relax2_doc)"
   ]
  },
  {
   "cell_type": "code",
   "execution_count": null,
   "id": "b8d0695c-371b-4198-bb97-28ff57f061ab",
   "metadata": {},
   "outputs": [],
   "source": [
    "# Access VASP calculation inputs like incar, kpoints, poscar\n",
    "task_doc_relax2.input.incar"
   ]
  },
  {
   "cell_type": "code",
   "execution_count": null,
   "id": "b0b8e4b3-4963-4c91-a03a-f15b5e360fcb",
   "metadata": {
    "scrolled": true
   },
   "outputs": [],
   "source": [
    "# Access final energy\n",
    "task_doc_relax2.output.energy"
   ]
  },
  {
   "cell_type": "code",
   "execution_count": null,
   "id": "0583a188-4ca9-471e-adf0-c96c4a8eab4e",
   "metadata": {},
   "outputs": [],
   "source": [
    "# Access forces\n",
    "task_doc_relax2.output.forces"
   ]
  },
  {
   "cell_type": "code",
   "execution_count": null,
   "id": "a9e50827-937b-4a3e-9b6a-94943b1e994a",
   "metadata": {},
   "outputs": [],
   "source": [
    "# Access stress\n",
    "task_doc_relax2.output.stress"
   ]
  },
  {
   "cell_type": "code",
   "execution_count": null,
   "id": "06e76aac-414b-41f4-a5ed-bf722712536e",
   "metadata": {},
   "outputs": [],
   "source": [
    "# Access / Download final optimized structure\n",
    "task_doc_relax2.output.structure.to_file(\"MgO_opt.cif\", fmt=\"cif\")"
   ]
  },
  {
   "cell_type": "code",
   "execution_count": null,
   "id": "14224f7d-71e4-43e4-8ede-c44054f4aa76",
   "metadata": {},
   "outputs": [],
   "source": [
    "# Access directory where the calculation ran\n",
    "task_doc_relax2.dir_name"
   ]
  },
  {
   "cell_type": "code",
   "execution_count": null,
   "id": "a0cc9109-a5c4-4f3a-af79-6427fdc2eb64",
   "metadata": {},
   "outputs": [],
   "source": [
    "# Collect energies for each optimization step from both relaxation tasks\n",
    "energy_step = [\n",
    "    step.e_fr_energy for step in task_doc_relax1.calcs_reversed[0].output.ionic_steps\n",
    "]\n",
    "energy_step += [\n",
    "    step.e_fr_energy for step in task_doc_relax2.calcs_reversed[0].output.ionic_steps\n",
    "]\n",
    "\n",
    "# Generate step indices\n",
    "opt_step = list(range(1, len(energy_step) + 1))\n",
    "\n",
    "# Compute energy difference relative to the first step\n",
    "del_energy_step = [e - energy_step[0] for e in energy_step]\n",
    "\n",
    "# Plot results\n",
    "plt.plot(opt_step, del_energy_step)\n",
    "plt.ylabel(r'$\\Delta E$')\n",
    "plt.xlabel(\"Ionic step\")\n",
    "plt.show()"
   ]
  },
  {
   "cell_type": "markdown",
   "id": "45444ea5-76c5-46f4-9cde-6e5181cf12c2",
   "metadata": {},
   "source": [
    "## Running a Electronic bandstructure workflow"
   ]
  },
  {
   "cell_type": "code",
   "execution_count": null,
   "id": "908a4106-5a5b-4e7a-b151-c550e1290552",
   "metadata": {},
   "outputs": [],
   "source": [
    "from pymatgen.core import Structure\n",
    "from atomate2.vasp.flows.core import BandStructureMaker\n",
    "from atomate2.vasp.powerups import update_user_incar_settings, update_vasp_custodian_handlers\n",
    "from jobflow_remote import submit_flow"
   ]
  },
  {
   "cell_type": "markdown",
   "id": "2010b13d-46c2-43d6-a15b-6a9c0323a09c",
   "metadata": {},
   "source": [
    "#### Check the customizable parameters for initializing the workflow "
   ]
  },
  {
   "cell_type": "code",
   "execution_count": null,
   "id": "4a05ff75-a565-430a-9d80-9c447fd3998c",
   "metadata": {},
   "outputs": [],
   "source": [
    "BandStructureMaker?"
   ]
  },
  {
   "cell_type": "code",
   "execution_count": null,
   "id": "9077c4a7-1bb5-4650-a494-55fed4082b54",
   "metadata": {},
   "outputs": [],
   "source": [
    "BandStructureMaker.make?"
   ]
  },
  {
   "cell_type": "code",
   "execution_count": null,
   "id": "df7b55c5-56d6-4ae9-becf-a6d06bd7f653",
   "metadata": {},
   "outputs": [],
   "source": [
    "# load the downloaded optimized MgO structure\n",
    "opt_mgo_structure = Structure.from_file(\"MgO_opt.cif\")"
   ]
  },
  {
   "cell_type": "code",
   "execution_count": null,
   "id": "2f249e9c-98f5-40d3-a37a-6d3dd4516d87",
   "metadata": {},
   "outputs": [],
   "source": [
    "# make a band structure flow and obtain the band structure\n",
    "bandstructure_flow = BandStructureMaker().make(opt_mgo_structure)\n",
    "bandstructure_flow.name = \"Band structure Flow\" # one can also set a custom name to flow"
   ]
  },
  {
   "cell_type": "markdown",
   "id": "1b03e04b-3bf9-41be-aa15-80bd8fdfee30",
   "metadata": {},
   "source": [
    "One can update VASP calculation inputs and runtime error handlers using powerups.\n",
    "\n",
    "Below is an simple example where we update VASP INCAR tags (update_user_incar_settings)  and runtime error handlers (update_vasp_custodian_handlers) for a flow. It is also possible to update for specific subtasks"
   ]
  },
  {
   "cell_type": "code",
   "execution_count": null,
   "id": "54b724f9-ffde-423c-ba3d-2a4fcfd27596",
   "metadata": {},
   "outputs": [],
   "source": [
    "bandstructure_flow = update_user_incar_settings(bandstructure_flow, {\"NPAR\": 4, \"ALGO\": \"FAST\"})\n",
    "bandstructure_flow = update_vasp_custodian_handlers(bandstructure_flow, custom_handlers=())"
   ]
  },
  {
   "cell_type": "code",
   "execution_count": null,
   "id": "a673add9-12dd-4a3b-8bdc-84e2a1b0a67a",
   "metadata": {},
   "outputs": [],
   "source": [
    "resources={\"nodes\": 1 , \"ntasks\": 36, \"time\": \"03:00:00\"} # define the resources for the jobs in flow\n",
    "submit_flow(bandstructure_flow, worker=\"cecam\", resources=resources, exec_config=\"vasp_6.4.3_cecam\") # set the resources for job execution"
   ]
  },
  {
   "cell_type": "markdown",
   "id": "ddecde24-a9d7-40bc-81aa-80ce3e636786",
   "metadata": {},
   "source": [
    "#### Access the bandstructure workflow result from the database and plot the DOS and band structure"
   ]
  },
  {
   "cell_type": "code",
   "execution_count": null,
   "id": "f7139c00-a22b-4a58-9e89-3f3b53406217",
   "metadata": {},
   "outputs": [],
   "source": [
    "from jobflow_remote import get_jobstore\n",
    "from monty.serialization import MontyDecoder\n",
    "from pymatgen.electronic_structure.plotter import BSPlotter, DosPlotter"
   ]
  },
  {
   "cell_type": "code",
   "execution_count": null,
   "id": "cef30b43-76c5-475a-99a5-cb2a485a6922",
   "metadata": {},
   "outputs": [],
   "source": [
    "# connect to the database where the results are stored\n",
    "jobstore = get_jobstore()\n",
    "jobstore.connect()"
   ]
  },
  {
   "cell_type": "code",
   "execution_count": null,
   "id": "83134846-ad49-41c5-b7a5-d0fbe23e778a",
   "metadata": {},
   "outputs": [],
   "source": [
    "bandstructure_flow.jobs[1].uuid"
   ]
  },
  {
   "cell_type": "code",
   "execution_count": null,
   "id": "783d6774-e532-46d2-939b-aee27386950e",
   "metadata": {},
   "outputs": [],
   "source": [
    "# get output for line bandstructure job \n",
    "line_bs_doc = jobstore.get_output(uuid=bandstructure_flow.jobs[2].uuid, load=True)\n",
    "\n",
    "# get python TaskDoc object from serialized output retrieved from DB\n",
    "task_doc_line = MontyDecoder().process_decoded(line_bs_doc)"
   ]
  },
  {
   "cell_type": "code",
   "execution_count": null,
   "id": "dd764a16-2c9b-4ddb-98e3-bb96c0eba625",
   "metadata": {},
   "outputs": [],
   "source": [
    "bandstructure = task_doc_line.vasp_objects['bandstructure']\n",
    "bs_plotter = BSPlotter(bandstructure)"
   ]
  },
  {
   "cell_type": "code",
   "execution_count": null,
   "id": "1a664fa6-0c32-479e-b1eb-e756ff08d9eb",
   "metadata": {},
   "outputs": [],
   "source": [
    "bs_plotter.get_plot(ylim=[-6, 20]);"
   ]
  },
  {
   "cell_type": "code",
   "execution_count": null,
   "id": "2c55e366-25fc-4984-bbf3-4751f50be52a",
   "metadata": {},
   "outputs": [],
   "source": [
    "# get output for uniform bandstructure job and plot DOS\n",
    "uniform_bs_doc = jobstore.get_output(bandstructure_flow.jobs[1].uuid, load=True)\n",
    "\n",
    "# get python TaskDoc object from serialized output retrieved from DB\n",
    "task_doc_uniform = MontyDecoder().process_decoded(uniform_bs_doc)"
   ]
  },
  {
   "cell_type": "code",
   "execution_count": null,
   "id": "53cdb886-9f0d-402c-98f9-55f3196424b7",
   "metadata": {},
   "outputs": [],
   "source": [
    "dos = task_doc_uniform.vasp_objects['dos']\n",
    "dos_plotter = DosPlotter()\n",
    "dos_plotter.add_dos_dict(dos.get_element_dos())\n",
    "dos_plotter.get_plot(xlim=[-10,20], ylim=[0, 2.5]);"
   ]
  },
  {
   "cell_type": "markdown",
   "id": "143fa221-de50-4ead-b0d6-2c60a6d86722",
   "metadata": {},
   "source": [
    "## Running a bonding analysis (VASP+LOBSTER) workflow  and accessing the results"
   ]
  },
  {
   "cell_type": "code",
   "execution_count": null,
   "id": "8fd4c75b-3a99-4d8e-b8fd-f9c05bd54366",
   "metadata": {},
   "outputs": [],
   "source": [
    "from pymatviz.structure_viz import structure_3d_plotly\n",
    "from atomate2.vasp.flows.mp import MPVaspLobsterMaker\n",
    "from atomate2.vasp.powerups import update_user_incar_settings\n",
    "from pymatgen.core import Structure\n",
    "from jobflow_remote import submit_flow"
   ]
  },
  {
   "cell_type": "code",
   "execution_count": null,
   "id": "6983ec36-f051-4902-b7c5-2af5f88cb8ed",
   "metadata": {},
   "outputs": [],
   "source": [
    "# Read AlAgS2 structure\n",
    "AlAgS2_structure = Structure.from_file(\"AlAgS2.vasp\").get_primitive_structure()"
   ]
  },
  {
   "cell_type": "code",
   "execution_count": null,
   "id": "a9b907da-e373-45d9-bf0a-0fb42db0f7c5",
   "metadata": {},
   "outputs": [],
   "source": [
    "structure_3d_plotly(AlAgS2_structure)"
   ]
  },
  {
   "cell_type": "code",
   "execution_count": null,
   "id": "f9a65e93-29c0-4b78-b3a7-cefd440789e9",
   "metadata": {},
   "outputs": [],
   "source": [
    "lobster_flow = MPVaspLobsterMaker(relax_maker=None).make(structure=AlAgS2_structure)\n",
    "lobster_flow.name = \"VASP LOBSTER flow\"\n",
    "\n",
    "lobster_flow = update_user_incar_settings(lobster_flow, {\"NPAR\": 6, \"ALGO\": \"FAST\"})"
   ]
  },
  {
   "cell_type": "code",
   "execution_count": null,
   "id": "395d6143-62bb-4bd5-a586-3f3e1b0c8402",
   "metadata": {},
   "outputs": [],
   "source": [
    "resources={\"nodes\": 1 , \"ntasks\": 36, \"time\": \"03:00:00\"} # define the resources for the jobs in flow"
   ]
  },
  {
   "cell_type": "code",
   "execution_count": null,
   "id": "9a337989-75c4-4008-a025-570b29d25e03",
   "metadata": {},
   "outputs": [],
   "source": [
    "submit_flow(lobster_flow, worker=\"cecam\", resources=resources, exec_config=\"vasp_6.4.3_cecam\") # set the resources for job execution"
   ]
  },
  {
   "cell_type": "code",
   "execution_count": null,
   "id": "e09005b4-c188-453d-811f-1c2fef07a79d",
   "metadata": {},
   "outputs": [],
   "source": [
    "# get overview of the list of jobs added and its status\n",
    "! jf job list"
   ]
  },
  {
   "cell_type": "markdown",
   "id": "2845225e-2ffe-44fe-a727-557c4fac1eb4",
   "metadata": {},
   "source": [
    "#### Access the bonding analysis workflow results from the database and plot the results"
   ]
  },
  {
   "cell_type": "markdown",
   "id": "90ba5631-d1fa-4aad-abaa-1a8407fae212",
   "metadata": {},
   "source": [
    "For Lobster workflow, the taskdocument is named as [LobsterTaskDocument](https://github.com/materialsproject/atomate2/blob/b8ff9f444bcecaac474f3779acd83ee3b5ad4ae1/src/atomate2/lobster/schemas.py#L640).\n",
    "\n",
    "So now, we will access this document which is stored in the database after successful run of the workflow."
   ]
  },
  {
   "cell_type": "code",
   "execution_count": null,
   "id": "750fcf4b-fbe6-451f-ae1b-097d557d0bf0",
   "metadata": {},
   "outputs": [],
   "source": [
    "from jobflow_remote import get_jobstore\n",
    "from monty.serialization import MontyDecoder\n",
    "from pymatgen.electronic_structure.cohp import Cohp\n",
    "from lobsterpy.plotting import PlainCohpPlotter, InteractiveCohpPlotter"
   ]
  },
  {
   "cell_type": "code",
   "execution_count": null,
   "id": "a67d790d-e7f4-4e20-9276-f3d6a5bcba26",
   "metadata": {},
   "outputs": [],
   "source": [
    "# connect to the database where the results are stored\n",
    "jobstore = get_jobstore()\n",
    "jobstore.connect()"
   ]
  },
  {
   "cell_type": "code",
   "execution_count": null,
   "id": "0248c140-7717-4a8e-bb96-5f00402a8290",
   "metadata": {},
   "outputs": [],
   "source": [
    "# get output doc for lobster runs\n",
    "lobster_doc = jobstore.get_output(lobster_flow.output.uuid, load=True)\n",
    "\n",
    "# get python LobsterTaskDocuments object from serialized output retrieved from DB\n",
    "task_docs_lobster = MontyDecoder().process_decoded(lobster_doc)"
   ]
  },
  {
   "cell_type": "code",
   "execution_count": null,
   "id": "d5e831ff-e0de-4adc-bfb1-e549befb3e1d",
   "metadata": {
    "scrolled": true
   },
   "outputs": [],
   "source": [
    "for key, cohp in task_docs_lobster[\"lobster_task_documents\"][0].lobsterpy_data_cation_anion.cohp_plot_data.data.items():\n",
    "    plotter = PlainCohpPlotter()\n",
    "    plotter.add_cohp(key, cohp)\n",
    "    plotter.get_plot(sigma=0.05, ylim=[-10,5])"
   ]
  },
  {
   "cell_type": "code",
   "execution_count": null,
   "id": "084d7c5c-14f0-435e-9ba9-e855ca39c1c0",
   "metadata": {},
   "outputs": [],
   "source": [
    "# access text description\n",
    "task_docs_lobster[\"lobster_task_documents\"][0].lobsterpy_text_cation_anion"
   ]
  },
  {
   "cell_type": "code",
   "execution_count": null,
   "id": "07e8b234-59c7-4a86-9066-0227ae8d9b8a",
   "metadata": {},
   "outputs": [],
   "source": [
    "# access strongest cation-anion bonds \n",
    "task_docs_lobster[\"lobster_task_documents\"][0].strongest_bonds_cation_anion"
   ]
  },
  {
   "cell_type": "markdown",
   "id": "75891204-18d3-43ab-86a6-b5b07651e187",
   "metadata": {},
   "source": [
    "## Running a Phonon workflow with VASP and accessing the results"
   ]
  },
  {
   "cell_type": "code",
   "execution_count": null,
   "id": "fcda0b01-6956-4bda-96bc-f1cc281936a8",
   "metadata": {},
   "outputs": [],
   "source": [
    "from pymatviz.structure_viz import structure_3d_plotly\n",
    "from atomate2.vasp.flows.phonons import PhononMaker\n",
    "from atomate2.vasp.powerups import add_metadata_to_flow\n",
    "from pymatgen.core import Structure\n",
    "from jobflow_remote import submit_flow"
   ]
  },
  {
   "cell_type": "code",
   "execution_count": null,
   "id": "0be1c4a4-fd01-43de-a230-03666e87b87b",
   "metadata": {},
   "outputs": [],
   "source": [
    "# Read si structure\n",
    "si_structure = Structure.from_file(\"Si.vasp\")"
   ]
  },
  {
   "cell_type": "code",
   "execution_count": null,
   "id": "d7a8169e-4339-4056-a335-97e5da95c5ff",
   "metadata": {},
   "outputs": [],
   "source": [
    "structure_3d_plotly(si_structure)"
   ]
  },
  {
   "cell_type": "code",
   "execution_count": null,
   "id": "675b5ea9-8012-4d78-8454-b4ba6966fa4c",
   "metadata": {},
   "outputs": [],
   "source": [
    "# make a Phonon flow to optimise the structure and obtain the Phonon bandstructure\n",
    "# It is possible to further customize calculation parameters, but for this case we stick to defaults\n",
    "phonon_flow = PhononMaker(\n",
    "    min_length=3.0, # here we set small supercell length for faster calculations (ideally you would use 15-20 angstroms supercell)\n",
    "    use_symmetrized_structure=\"conventional\",\n",
    "    create_thermal_displacements=False,\n",
    "    store_force_constants=False,\n",
    "    prefer_90_degrees=False,\n",
    "    generate_frequencies_eigenvectors_kwargs={\"tstep\": 100, \"band_structure_eigenvectors\": False},\n",
    ").make(si_structure)\n",
    "\n",
    "phonon_flow.name = \"Phonon flow\""
   ]
  },
  {
   "cell_type": "code",
   "execution_count": null,
   "id": "3943a63e-b452-4d58-990f-a19aa637fae5",
   "metadata": {},
   "outputs": [],
   "source": [
    "resources={\"nodes\": 1 , \"ntasks\": 36, \"time\": \"03:00:00\"} # define the resources for the jobs in flow"
   ]
  },
  {
   "cell_type": "code",
   "execution_count": null,
   "id": "297c7480-5c1c-4e05-8e0b-c6edfdc22121",
   "metadata": {},
   "outputs": [],
   "source": [
    "submit_flow(phonon_flow, worker=\"cecam\", resources=resources, exec_config=\"vasp_6.4.3_cecam\") # set the resources for job execution"
   ]
  },
  {
   "cell_type": "code",
   "execution_count": null,
   "id": "a3198b62-c8b4-4325-bac3-1db9e3842145",
   "metadata": {},
   "outputs": [],
   "source": [
    "# get overview of the list of jobs added and its status\n",
    "! jf job list"
   ]
  },
  {
   "cell_type": "markdown",
   "id": "6826662b-0764-4f83-980b-68f5ce4339c9",
   "metadata": {},
   "source": [
    "#### Access the phonon workflow results from the database and plot phonon bandstructure"
   ]
  },
  {
   "cell_type": "markdown",
   "id": "03014003-c404-4895-877a-004388a215bc",
   "metadata": {},
   "source": [
    "Each of the atomate2 workflows mostly have a associated [Taskdocument](https://materialsproject.github.io/atomate2/user/key_concepts_overview.html) generated for specific type of calculations. The Taskdocument can be understood simply as summary of most important results from the calculation.\n",
    "\n",
    "For phonon workflow, the taskdocument is named as [PhononBSDOSDoc](https://github.com/materialsproject/atomate2/blob/b8ff9f444bcecaac474f3779acd83ee3b5ad4ae1/src/atomate2/common/schemas/phonons.py#L136). \n",
    "\n",
    "So now, we will access this document which is stored in the database after successful run of the workflow."
   ]
  },
  {
   "cell_type": "code",
   "execution_count": null,
   "id": "bb46e984-8d12-4329-9508-08ad12906a37",
   "metadata": {},
   "outputs": [],
   "source": [
    "from jobflow_remote import get_jobstore\n",
    "from monty.serialization import MontyDecoder\n",
    "from pymatgen.phonon.bandstructure import PhononBandStructureSymmLine\n",
    "from pymatgen.phonon.dos import PhononDos\n",
    "from pymatgen.phonon.plotter import PhononBSPlotter, PhononDosPlotter"
   ]
  },
  {
   "cell_type": "code",
   "execution_count": null,
   "id": "6f5d42a3-32d5-4ce5-8729-ebd7605a9690",
   "metadata": {},
   "outputs": [],
   "source": [
    "# connect to the database where the results are stored\n",
    "jobstore = get_jobstore()\n",
    "jobstore.connect()"
   ]
  },
  {
   "cell_type": "code",
   "execution_count": null,
   "id": "e11666a6-3d32-4494-90ab-162fff3db687",
   "metadata": {},
   "outputs": [],
   "source": [
    "# get output doc\n",
    "phonon_doc = jobstore.get_output(phonon_flow.output.uuid, load=True)\n",
    "\n",
    "# get python PhononBSDOSDoc object from serialized output retrieved from DB\n",
    "task_doc_phonon = MontyDecoder().process_decoded(phonon_doc)"
   ]
  },
  {
   "cell_type": "code",
   "execution_count": null,
   "id": "866f3ca5-42f1-47a5-8e7c-a768b951b2d0",
   "metadata": {},
   "outputs": [],
   "source": [
    "# initialize dos plotter and visualize dos plot\n",
    "dos_plot = PhononDosPlotter()\n",
    "dos_plot.add_dos(label=\"Total Dos\", dos=task_doc_phonon.phonon_dos)\n",
    "dos_plot.get_plot();\n",
    "\n",
    "# initialize Phonon bandstructure plotter and visualize band structure plot\n",
    "bs_plot = PhononBSPlotter(bs=task_doc_phonon.phonon_bandstructure)\n",
    "bs_plot.get_plot();"
   ]
  },
  {
   "cell_type": "markdown",
   "id": "2fc6c2fd-f7e3-41b2-8a4d-c9214d7ef70f",
   "metadata": {},
   "source": [
    "# Optional \n",
    "\n",
    "- Run Elastic constant or a Equation of state workflow and access the results"
   ]
  }
 ],
 "metadata": {
  "kernelspec": {
   "display_name": "Python 3 (ipykernel)",
   "language": "python",
   "name": "python3"
  },
  "language_info": {
   "codemirror_mode": {
    "name": "ipython",
    "version": 3
   },
   "file_extension": ".py",
   "mimetype": "text/x-python",
   "name": "python",
   "nbconvert_exporter": "python",
   "pygments_lexer": "ipython3",
   "version": "3.11.11"
  }
 },
 "nbformat": 4,
 "nbformat_minor": 5
}
