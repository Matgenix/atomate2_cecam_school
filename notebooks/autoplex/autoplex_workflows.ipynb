{
 "cells": [
  {
   "cell_type": "markdown",
   "id": "40c6da97-6d24-4b35-ad31-dc10f79a70cd",
   "metadata": {},
   "source": [
    "# Introduction\n",
    "\n",
    "`autoplex` is an open-sourced library for automating the generation and benchmarking of machine-learned interatomic potentials (MLIPs). This library provides an easy-to-use interface for fitting different MLIPs. It heavily relies on workflows and jobs implemented in `atomate2`. This library aims to make the development of accurate/reliable MLIPs swift and accessible to a broad community of researchers."
   ]
  },
  {
   "cell_type": "markdown",
   "id": "1ec15a95-ba4d-49ca-bbfd-50e565edb3be",
   "metadata": {},
   "source": [
    "## Currently Supported MLIP architectures\n",
    "\n",
    "- MACE\n",
    "- GAP\n",
    "- NEP\n",
    "- M3GNET\n",
    "- J-ACE\n",
    "- NEQUIP"
   ]
  },
  {
   "cell_type": "markdown",
   "id": "abbe3969-9633-494a-b4d1-abe30b1ccddb",
   "metadata": {},
   "source": [
    "## Workflows\n",
    "\n",
    "- Workflow to use random-structure searches for the systematic construction of interatomic potentials: [arXiv: 10.48550/arXiv.2412.16736](https://arxiv.org/abs/2412.16736).\n",
    "  The implementation automates ideas from the following articles: [*Phys. Rev. Lett.* **120**, 156001 (2018)](https://journals.aps.org/prl/abstract/10.1103/PhysRevLett.120.156001) and [*npj Comput. Mater.* **5**, 99 (2019)](https://www.nature.com/articles/s41524-019-0236-6).\n",
    "- Workflow to train accurate interatomic potentials for harmonic phonon properties. The implementation automates the ideas from the following article: [*J. Chem. Phys.* **153**, 044104 (2020)](https://pubs.aip.org/aip/jcp/article/153/4/044104/1056348/Combining-phonon-accuracy-with-high)."
   ]
  },
  {
   "cell_type": "markdown",
   "id": "775abaa6-4a9f-45f3-b539-52c968c1e057",
   "metadata": {},
   "source": [
    "# Running an Iterative DFT vs MLIP benchmark workflow for phonons"
   ]
  },
  {
   "cell_type": "markdown",
   "id": "551fcb97-034b-496d-8255-1aac13bf086a",
   "metadata": {},
   "source": [
    "**Info:** autoplex's `CompleteDFTvsMLBenchmarkWorkflow` involves data generation (DFT reference data for forces, stress, and energies with VASP), the fitting of the chosen MLIP, and the benchmarking of the phonons from MLIPs to the reference phonons from DFT calculations.\n",
    "\n",
    "\n",
    "To systematically converge the quality of the potentials, we recommend using the iterative version of the default `CompleteDFTvsMLBenchmarkWorkflow` i.e. **`IterativeCompleteDFTvsMLBenchmarkWorkflow.`** It will run until the **worst RMSE** value of the benchmark structures falls below a **certain value** or a **maximum number of repetitions** is reached.\n",
    "\n",
    "One can have a slightly different workflow for the first generation than the subsequent generations. This can help to obtain enough structures for an MLIP fit initially and only slightly increase the number of structures in the next generations. \n",
    "\n",
    "\n",
    "<div class=\"alert alert-block alert-danger\"><b>Important:</b> Don’t forget to deactivate the phonon data generation after the first iteration. <b></b></div>"
   ]
  },
  {
   "cell_type": "code",
   "execution_count": null,
   "id": "f9fea8bf-2426-4b9d-9e0e-947e76dc03ed",
   "metadata": {},
   "outputs": [],
   "source": [
    "from atomate2.vasp.flows.core import DoubleRelaxMaker\n",
    "from atomate2.vasp.jobs.core import StaticMaker, TightRelaxMaker\n",
    "from atomate2.vasp.jobs.phonons import PhononDisplacementMaker\n",
    "from atomate2.vasp.sets.core import StaticSetGenerator, TightRelaxSetGenerator\n",
    "from autoplex.auto.phonons.flows import (\n",
    "    CompleteDFTvsMLBenchmarkWorkflow,\n",
    "    IterativeCompleteDFTvsMLBenchmarkWorkflow,\n",
    ")\n",
    "from jobflow import Flow\n",
    "from pymatgen.core.structure import Structure\n",
    "\n",
    "from jobflow_remote import submit_flow, set_run_config\n",
    "from atomate2.vasp.powerups import update_user_incar_settings\n",
    "from atomate2.vasp.powerups import update_vasp_custodian_handlers"
   ]
  },
  {
   "cell_type": "markdown",
   "id": "33d0a7ba-5be2-463b-9e9d-05910f4bdd57",
   "metadata": {},
   "source": [
    "We first  initialize the makers for the bulk relax jobs, static DFT runs of single atom displaced structures, and getting isolated atom energies (static DFT run)"
   ]
  },
  {
   "cell_type": "code",
   "execution_count": null,
   "id": "36313499-227f-4855-abaf-7d3c846f2736",
   "metadata": {},
   "outputs": [],
   "source": [
    "phonon_bulk_relax_maker = DoubleRelaxMaker.from_relax_maker(\n",
    "    TightRelaxMaker(\n",
    "        run_vasp_kwargs={\"handlers\": ()},\n",
    "        input_set_generator=TightRelaxSetGenerator(\n",
    "            user_incar_settings={\n",
    "                \"GGA\": \"PE\",\n",
    "                \"ISPIN\": 1,\n",
    "                \"KSPACING\": 0.2,\n",
    "                \"ALGO\": \"Fast\",\n",
    "                \"LAECHG\": False,\n",
    "                \"ISMEAR\": 1,\n",
    "                \"ENCUT\": 500,\n",
    "                \"IBRION\": 1,\n",
    "                \"ISYM\": 2,\n",
    "                \"SIGMA\": 0.05,\n",
    "                \"LCHARG\": False,\n",
    "                \"LWAVE\": False,\n",
    "                \"LVTOT\": False,\n",
    "                \"LORBIT\": None,\n",
    "                \"LOPTICS\": False,\n",
    "                \"LREAL\": False,\n",
    "                \"ISIF\": 4,\n",
    "                \"NPAR\": 4,\n",
    "            }\n",
    "        ),\n",
    "    )\n",
    ")\n"
   ]
  },
  {
   "cell_type": "code",
   "execution_count": null,
   "id": "4cf20b5f-ebf8-413b-99ff-f2c220edbfae",
   "metadata": {},
   "outputs": [],
   "source": [
    "phonon_displacement_maker = PhononDisplacementMaker(\n",
    "    name=\"dft phonon static\",\n",
    "    run_vasp_kwargs={\"handlers\": ()},\n",
    "    input_set_generator=StaticSetGenerator(\n",
    "        user_incar_settings={\n",
    "            \"GGA\": \"PE\",\n",
    "            \"IBRION\": -1,\n",
    "            \"ISPIN\": 1,\n",
    "            \"ISMEAR\": 1,\n",
    "            \"ISIF\": 3,\n",
    "            \"ENCUT\": 500,\n",
    "            \"EDIFF\": 1e-7,\n",
    "            \"LAECHG\": False,\n",
    "            \"LREAL\": False,\n",
    "            \"ALGO\": \"Fast\",\n",
    "            \"NSW\": 0,\n",
    "            \"LCHARG\": False,\n",
    "            \"LWAVE\": False,\n",
    "            \"LVTOT\": False,\n",
    "            \"LORBIT\": None,\n",
    "            \"LOPTICS\": False,\n",
    "            \"SIGMA\": 0.05,\n",
    "            \"ISYM\": 2,\n",
    "            \"KSPACING\": 0.2,\n",
    "            \"NPAR\": 4,\n",
    "        },\n",
    "        auto_ispin=False,\n",
    "    ),\n",
    ")\n",
    "\n",
    "phonon_static_energy_maker = phonon_displacement_maker"
   ]
  },
  {
   "cell_type": "code",
   "execution_count": null,
   "id": "e3ddd756-c5b0-4dea-8420-6cbc6fa9cb79",
   "metadata": {},
   "outputs": [],
   "source": [
    "static_isolated_atom_maker = StaticMaker(\n",
    "    run_vasp_kwargs={\"handlers\": ()},\n",
    "    input_set_generator=StaticSetGenerator(\n",
    "        user_kpoints_settings={\"reciprocal_density\": 1},\n",
    "        user_incar_settings={\n",
    "            \"GGA\": \"PE\",\n",
    "            \"ALGO\": \"Normal\",\n",
    "            \"ISPIN\": 1,\n",
    "            \"LAECHG\": False,\n",
    "            \"ENCUT\": 500,\n",
    "            \"ISMEAR\": 0,\n",
    "            \"LCHARG\": False,\n",
    "            \"LWAVE\": False,\n",
    "            \"LVTOT\": False,\n",
    "            \"LORBIT\": None,\n",
    "            \"LOPTICS\": False,\n",
    "            \"NPAR\": 4,\n",
    "        },\n",
    "    ),\n",
    ")"
   ]
  },
  {
   "cell_type": "markdown",
   "id": "5952386d-6456-43b3-8852-3eb0dbff9d77",
   "metadata": {},
   "source": [
    "Now we collect a number of structures and then optimize them in advance of the workflow. One can also perform subsequent optimizations with different k-point settings, for example.\n",
    "\n",
    "<div class=\"alert alert-block alert-info\"><b>Note:</b> Due to limited resources and to keep the execution time small, here we use <b>one structure, very small supercells and limit the iterations to 2</b>. Thus, it is expected here that the phonons generated by the fitted MLIP will not be of very high quality and cannot be used for production runs. Ideally you would use much larger supercells and a lot more structures in the workflow<b></b></div>"
   ]
  },
  {
   "cell_type": "code",
   "execution_count": null,
   "id": "3f0aa1ed-1756-4da7-9520-2f732419daeb",
   "metadata": {},
   "outputs": [],
   "source": [
    "job_list = [] # list to collect structure optimization jobs\n",
    "\n",
    "\n",
    "structure_list = []\n",
    "benchmark_structure_list = []\n",
    "start_mpids = [\"mp-149\"]\n",
    "start_poscar = [\"Si.vasp\"]\n",
    "\n",
    "mpids = []\n",
    "for mpid, start_poscar in zip(start_mpids, start_poscar):\n",
    "    for scale in [0.98,1.0]:\n",
    "        structure = Structure.from_file(start_poscar)\n",
    "        volume = structure.copy().volume\n",
    "        structure = structure.scale_lattice((scale**3) * volume)  # added the cube\n",
    "        job_opt = phonon_bulk_relax_maker.make(structure)\n",
    "        job_opt.append_name(\"_\" + mpid + \"_\" + str(scale) + \"_pre1\")\n",
    "        job_list.append(job_opt)\n",
    "        structure_list.append(job_opt.output.structure)\n",
    "        mpids.append(mpid + \"_\" + str(scale))\n",
    "\n",
    "\n",
    "mpbenchmark = mpids\n",
    "benchmark_structure_list = structure_list"
   ]
  },
  {
   "cell_type": "code",
   "execution_count": null,
   "id": "133f5a4d-d057-4e7f-9d1e-32fd8a66f615",
   "metadata": {},
   "outputs": [],
   "source": [
    "iteration_flow = IterativeCompleteDFTvsMLBenchmarkWorkflow(\n",
    "    max_iterations=2,\n",
    "    rms_max=0.2,\n",
    "    complete_dft_vs_ml_benchmark_workflow_0=CompleteDFTvsMLBenchmarkWorkflow(\n",
    "        symprec=1e-3,\n",
    "        apply_data_preprocessing=True,\n",
    "        add_dft_rattled_struct=True,\n",
    "        add_dft_phonon_struct=True,\n",
    "        volume_custom_scale_factors=[1.0],\n",
    "        rattle_type=0,\n",
    "        distort_type=0,\n",
    "        rattle_std=0.1,  #\n",
    "        benchmark_kwargs={\"relax_maker_kwargs\": {\"relax_cell\": False}},\n",
    "        supercell_settings={\n",
    "            \"min_length\": 3,\n",
    "            \"max_length\": 10,\n",
    "            \"min_atoms\": 10,\n",
    "            \"max_atoms\": 300,\n",
    "            \"fallback_min_length\": 9,\n",
    "        },\n",
    "        # settings that worked with a GAP\n",
    "        split_ratio=0.33,\n",
    "        regularization=False,\n",
    "        separated=False,\n",
    "        num_processes_fit=48,\n",
    "        displacement_maker=phonon_displacement_maker,\n",
    "        phonon_bulk_relax_maker=phonon_bulk_relax_maker,\n",
    "        phonon_static_energy_maker=phonon_static_energy_maker,\n",
    "        rattled_bulk_relax_maker=phonon_bulk_relax_maker,\n",
    "        isolated_atom_maker=static_isolated_atom_maker,\n",
    "    ),\n",
    "    complete_dft_vs_ml_benchmark_workflow_1=CompleteDFTvsMLBenchmarkWorkflow(\n",
    "        symprec=1e-3,\n",
    "        apply_data_preprocessing=True,\n",
    "        add_dft_phonon_struct=False,\n",
    "        add_dft_rattled_struct=True,\n",
    "        volume_custom_scale_factors=[1.0],\n",
    "        rattle_type=0,\n",
    "        distort_type=0,\n",
    "        rattle_std=0.1,  # maybe 0.1\n",
    "        benchmark_kwargs={\"relax_maker_kwargs\": {\"relax_cell\": False}},\n",
    "        supercell_settings={\n",
    "            \"min_length\": 3,\n",
    "            \"max_length\": 10,\n",
    "            \"min_atoms\": 10,\n",
    "            \"max_atoms\": 300,\n",
    "            \"fallback_min_length\": 9,\n",
    "        },\n",
    "        split_ratio=0.33,\n",
    "        regularization=False,\n",
    "        separated=False,\n",
    "        num_processes_fit=48,\n",
    "        displacement_maker=phonon_displacement_maker,\n",
    "        phonon_bulk_relax_maker=phonon_bulk_relax_maker,\n",
    "        phonon_static_energy_maker=phonon_static_energy_maker,\n",
    "        rattled_bulk_relax_maker=phonon_bulk_relax_maker,\n",
    "        isolated_atom_maker=static_isolated_atom_maker,\n",
    "    ),\n",
    ").make(\n",
    "    structure_list=structure_list,\n",
    "    mp_ids=mpids,\n",
    "    benchmark_structures=benchmark_structure_list,\n",
    "    benchmark_mp_ids=mpbenchmark,\n",
    "    rattle_seed=0,\n",
    "    fit_kwargs_list=[\n",
    "        {\n",
    "            \"soap\": {\n",
    "                \"delta\": 1.0,\n",
    "                \"l_max\": 12,\n",
    "                \"n_max\": 10,\n",
    "                \"atom_sigma\": 0.5,\n",
    "                \"zeta\": 4,\n",
    "                \"cutoff\": 5.0,\n",
    "                \"cutoff_transition_width\": 1.0,\n",
    "                \"central_weight\": 1.0,\n",
    "                \"n_sparse\": 6000,\n",
    "                \"f0\": 0.0,\n",
    "                \"covariance_type\": \"dot_product\",\n",
    "                \"sparse_method\": \"cur_points\",\n",
    "            },\n",
    "            \"general\": {\n",
    "                \"two_body\": True,\n",
    "                \"three_body\": False,\n",
    "                \"soap\": True,\n",
    "                \"default_sigma\": \"{0.001 0.05 0.05 0.0}\",\n",
    "                \"sparse_jitter\": 1.0e-8,\n",
    "            },\n",
    "        }\n",
    "    ],\n",
    ")\n",
    "\n",
    "job_list.append(iteration_flow)\n",
    "autoplex_flow = Flow(jobs=job_list, output=iteration_flow.output)"
   ]
  },
  {
   "cell_type": "code",
   "execution_count": null,
   "id": "b3daccab-a5a3-4f26-8ebb-ee938c57a7c8",
   "metadata": {},
   "outputs": [],
   "source": [
    "autoplex_flow = update_user_incar_settings(autoplex_flow, {\"NPAR\": 4})\n",
    "autoplex_flow = update_vasp_custodian_handlers(autoplex_flow, custom_handlers={})\n",
    "\n",
    "autoplex_flow.name = \"autoplex-simple-phonon-workflow\""
   ]
  },
  {
   "cell_type": "code",
   "execution_count": null,
   "id": "82e3b57a-cde7-4fe4-988d-7f6ed92afa83",
   "metadata": {},
   "outputs": [],
   "source": [
    "resources = {\"nodes\": 1, \"ntasks\":32, \"time\": \"03:00:00\"}\n",
    "submit_flow(autoplex_flow, worker=\"cecam_autoplex\", resources=resources, exec_config=\"vasp_6.4.3_cecam\", project=\"cecam_school\")"
   ]
  },
  {
   "cell_type": "code",
   "execution_count": null,
   "id": "9ee25f1d-1886-4b59-af28-1d930ef8f172",
   "metadata": {},
   "outputs": [],
   "source": [
    "!jf runner start # start the jobflow remote runner if it is shutdown"
   ]
  },
  {
   "cell_type": "markdown",
   "id": "67de13ee-7892-4281-bdd1-e2d30b5c8816",
   "metadata": {},
   "source": [
    "<div class=\"alert alert-block alert-warning\"><b>Warning:</b> The `write_benchmark_metrics_*` jobs fail with remote error due to a small bug in job connectivity <b></b>. Thus, that job needs to be rerun (This bug is scheduled for a fix with upcoming new release).</div>"
   ]
  },
  {
   "cell_type": "markdown",
   "id": "aea08a28-81fe-4902-93b3-3a318970c933",
   "metadata": {},
   "source": [
    "#### Access the relax workflow results from the database"
   ]
  },
  {
   "cell_type": "code",
   "execution_count": null,
   "id": "5c1d1438-05eb-491b-9c0e-9ad5dbe520c9",
   "metadata": {},
   "outputs": [],
   "source": [
    "from jobflow_remote import get_jobstore\n",
    "from autoplex.benchmark.phonons.utils import compare_plot"
   ]
  },
  {
   "cell_type": "code",
   "execution_count": null,
   "id": "b04e9c54-488b-43c6-914b-617c1519c8c2",
   "metadata": {},
   "outputs": [],
   "source": [
    "# connect to the database where the results are stored\n",
    "jobstore = get_jobstore()\n",
    "jobstore.connect()"
   ]
  }
 ],
 "metadata": {
  "kernelspec": {
   "display_name": "Python 3 (ipykernel)",
   "language": "python",
   "name": "python3"
  },
  "language_info": {
   "codemirror_mode": {
    "name": "ipython",
    "version": 3
   },
   "file_extension": ".py",
   "mimetype": "text/x-python",
   "name": "python",
   "nbconvert_exporter": "python",
   "pygments_lexer": "ipython3",
   "version": "3.11.11"
  }
 },
 "nbformat": 4,
 "nbformat_minor": 5
}
