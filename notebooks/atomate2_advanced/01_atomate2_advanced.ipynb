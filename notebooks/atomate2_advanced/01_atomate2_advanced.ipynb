{
 "cells": [
  {
   "cell_type": "markdown",
   "id": "896c7251-767e-4f39-bb6e-5eb79371084b",
   "metadata": {},
   "source": [
    "# Customising and chaining atomate2 workflows\n",
    "\n",
    "So far, you have run the stock atomate2 workflows directly without customisation. In practice, you'll want to configure the input sets for most calculations. Furthermore, one of the most powerful aspects of atomate2 is the ease of developing new workflows by chaining together existing jobs and flow.\n",
    "\n",
    "In this hands-on, we will tackle both of these points. Topics covered include:\n",
    "- The BaseVaspMaker for VASP jobs\n",
    "- Input set generators and how to customise them\n",
    "- Powerups\n",
    "- Adding metadata\n",
    "- Querying the job store and MongoDB syntax\n",
    "- Chaining jobs\n",
    "- Writing a simple flow\n",
    "\n",
    "Just like in the first session, we'll be running calculations through [jobflow-remote](https://github.com/Matgenix/jobflow-remote) on the CECAM HPC cluster. If you're experiencing any issues with your installation, just let the helpers know.\n",
    "\n",
    "## VASP jobs and the BaseVaspMaker \n",
    "\n",
    "Let's start by looking in detail at the structure of a VASP job Maker. As with every Maker, the way you create jobs is through the make function. Vasp job Makers can be found in\n",
    "\n",
    "```python\n",
    "atomate2.vasp.jobs.<subpackage>\n",
    "```"
   ]
  },
  {
   "cell_type": "code",
   "execution_count": null,
   "id": "98395518-bb4c-46a0-b031-73d680323996",
   "metadata": {},
   "outputs": [],
   "source": [
    "from atomate2.vasp.jobs.core import RelaxMaker\n",
    "\n",
    "rm = RelaxMaker()\n",
    "rm.make?"
   ]
  },
  {
   "cell_type": "markdown",
   "id": "ce4a3b66-079c-42b9-b1d9-7a64786ee6e4",
   "metadata": {},
   "source": [
    "As we saw in the last session, the VASP makers accept a pymatgen [Structure](https://github.com/materialsproject/pymatgen/blob/master/src/pymatgen/core/structure.py) object as input and optional directory from the previous calculation.\n",
    "\n",
    "The make function itself doesn't provide any way of customising the VASP settings. Instead, this is controlled by the Maker fields. These were outlined in the lecture, but let's see a reminder here."
   ]
  },
  {
   "cell_type": "code",
   "execution_count": null,
   "id": "d6bbdd8d-0f6a-4403-90ec-9b98154ee25a",
   "metadata": {},
   "outputs": [],
   "source": [
    "RelaxMaker?"
   ]
  },
  {
   "cell_type": "markdown",
   "id": "fcc37a10-0eac-46f1-ba7d-2b8820fe43a0",
   "metadata": {},
   "source": [
    "Here we have options for controlling every stage of the VASP calculation:\n",
    "- Copying files from the previous directory (`copy_vasp_kwargs`)\n",
    "- Writing inputs (`input_set_generator`)\n",
    "- Running VASP (`run_vasp_kwargs`)\n",
    "- Loading the task document from the output files (`task_document_kwargs`)\n",
    "- Checking the calculation was successful (`stop_children_kwargs`)\n",
    "\n",
    "In particular, these keyword arguments are passed to the relevant functions which are called inside the make method. Jupyter lab does not render the links to these functions, but if you view the [RelaxMaker](https://materialsproject.github.io/atomate2/reference/atomate2.vasp.jobs.core.RelaxMaker.html) page in the atomate2 documentation, you can follow the links to see exactly what can be configured.\n",
    "\n",
    "We can specify custom parameters by initialising the RelaxMaker appropriately. For example, below we ensure that the calculation always returns successfully whether or not electronic and ionic convergence has been achieved."
   ]
  },
  {
   "cell_type": "code",
   "execution_count": null,
   "id": "85c6e73a-e8ce-4f35-a3db-7f79ed679dbf",
   "metadata": {},
   "outputs": [],
   "source": [
    "rm = RelaxMaker(stop_children_kwargs={\"handle_unsuccessful\": False})"
   ]
  },
  {
   "cell_type": "markdown",
   "id": "9a51f0d2-e81c-4ccb-91fa-9938681860d5",
   "metadata": {},
   "source": [
    "You should read the docstring for [should_stop_children](https://materialsproject.github.io/atomate2/reference/atomate2.aims.run.should_stop_children.html#atomate2.aims.run.should_stop_children) to check you understand the above code.\n",
    "\n",
    "### Activity – copying files\n",
    "\n",
    "Now you have seen how to customise the stages of the VASP job, it is time to practice yourself. The goal of this activity is to configure the job to copy the CHGCAR from the previous directory. The steps to achieve this are as follows\n",
    "\n",
    "1. Decide which of the stages controls copying files.\n",
    "2. Look up the docstring for the relevant function.\n",
    "3. Determine how to configure the copied files.\n",
    "4. Apply these options in the RelaxMaker.\n",
    "\n",
    "If you get stuck, we've provided some hints below.\n",
    "\n",
    "<details>\n",
    "<summary> Hint 1 </summary>\n",
    "\n",
    "[copy_vasp_outputs](https://materialsproject.github.io/atomate2/reference/atomate2.vasp.files.copy_vasp_outputs.html) is responsible for copying previous outputs ot the current directory.\n",
    "</details>\n",
    "\n",
    "</br>\n",
    "\n",
    "<details>\n",
    "<summary> Hint 2 </summary>\n",
    "The <code>additional_vasp_files</code> option controls which files to copy. In this case we'll need to set this as:\n",
    "<code>[\"CHGCAR\"]</code>\n",
    "</details>\n",
    "\n",
    "</br>\n",
    "\n",
    "<details>\n",
    "<summary> Answer </summary>\n",
    "Putting the hints together, you should get:\n",
    "</br></br>\n",
    "\n",
    "```python\n",
    "rm = RelaxMaker(copy_vasp_kwargs={\"additional_vasp_files\": [\"CHGCAR\"]})\n",
    "```\n",
    "</details>"
   ]
  },
  {
   "cell_type": "code",
   "execution_count": null,
   "id": "360746fe-b633-4243-85d0-561dbb19ec9d",
   "metadata": {},
   "outputs": [],
   "source": [
    "# Use this space to solve the activity\n",
    "\n",
    "rm = RelaxMaker(\n",
    "    ...  # update me\n",
    ")"
   ]
  },
  {
   "cell_type": "markdown",
   "id": "5f7d069a-c9ff-4159-b43b-bc240b6cf50a",
   "metadata": {},
   "source": [
    "All of the above functionality is provided by BaseVaspMaker from which all VASP job makers derive. You won't ever use this class directly, but will subclass it when creating new VASP makers. More details on the [BaseVaspMaker](https://materialsproject.github.io/atomate2/reference/atomate2.vasp.jobs.base.BaseVaspMaker.html) is available on the online documentation.\n",
    "\n",
    "## Creating inputs with input set generators\n",
    "\n",
    "Input set generators are responsible for converting a pymatgen [Structure](https://pymatgen.org/pymatgen.core.html#pymatgen.core.structure.Structure) object into the input files needed to run VASP. As a reminder, these are:\n",
    "\n",
    "- **POSCAR**: Lattice, atomic positions, and atom types.\n",
    "- **INCAR**: Calculation settings (functional, convergence criteria, etc)\n",
    "- **POTCAR**: Pseudopotentials\n",
    "- **KPOINTS**: K-point sampling (optional)\n",
    "\n",
    "Let's start by creating a RelaxSetGenerator (used by the RelaxMaker above). VASP input sets live either in pymatgen or atomate2 at the following paths:\n",
    "\n",
    "```python\n",
    "# in atomate2\n",
    "atomate2.vasp.sets.<subpackage>\n",
    "\n",
    "# in pymatgen\n",
    "pymatgen.io.vasp.sets\n",
    "```\n",
    "\n",
    "For the purposes of this tutorial, we'll use the standard atomate2 input sets. The pymatgen input sets differ in the choice of functional (PBE vs PBEsol) and pseudopotential versions (PBE vs PBE_54)."
   ]
  },
  {
   "cell_type": "code",
   "execution_count": null,
   "id": "a63f1f6a-12db-4f01-9cd0-318535bf40ad",
   "metadata": {},
   "outputs": [],
   "source": [
    "from atomate2.vasp.sets.core import RelaxSetGenerator\n",
    "\n",
    "isg = RelaxSetGenerator()"
   ]
  },
  {
   "cell_type": "markdown",
   "id": "eb573f26-bef2-4da2-b4cf-68abe91a9ab1",
   "metadata": {},
   "source": [
    "By itself, the input set generator is just a mechanism to generate the VASP inputs at a later date. We do this using the get_input_set function. For that we'll to provide a structure as input."
   ]
  },
  {
   "cell_type": "code",
   "execution_count": null,
   "id": "60c50189-738b-469d-9b25-2d16af7defd4",
   "metadata": {},
   "outputs": [],
   "source": [
    "from pymatgen.core import Structure\n",
    "\n",
    "structure = Structure.from_file(\"Si.vasp\")\n",
    "\n",
    "input_set = isg.get_input_set(structure, potcar_spec=True)"
   ]
  },
  {
   "cell_type": "markdown",
   "id": "1409d52b",
   "metadata": {},
   "source": [
    "Note, we have to use `potcar_spec=True` in this notebook as we don't have the VASP psuedopotential files installed. In practice, this function is only called when the job is executed, so the potcars only need to be configured on the HPC where the job runs.\n",
    "\n",
    "We can access the individual VASP input files using the attributes of the input set."
   ]
  },
  {
   "cell_type": "code",
   "execution_count": null,
   "id": "e88be65a",
   "metadata": {},
   "outputs": [],
   "source": [
    "incar = input_set.incar\n",
    "kpoints = input_set.kpoints\n",
    "poscar = input_set.poscar\n",
    "\n",
    "print(f\"\"\"Default RelaxSetGenerator inputs for Si\n",
    "\n",
    "INCAR\n",
    "=====\n",
    "{incar}\n",
    "      \n",
    "KPOINTS\n",
    "=======\n",
    "{kpoints}\n",
    "\n",
    "POSCAR\n",
    "======\n",
    "{poscar}\"\"\")"
   ]
  },
  {
   "cell_type": "markdown",
   "id": "d9a13043",
   "metadata": {},
   "source": [
    "We can also write the inputs to a directory. Using the write_input function. This will create the folder if it doesn't already exist."
   ]
  },
  {
   "cell_type": "code",
   "execution_count": null,
   "id": "8d3b238c",
   "metadata": {},
   "outputs": [],
   "source": [
    "input_set.write_input(\"Si_inputs\")"
   ]
  },
  {
   "cell_type": "markdown",
   "id": "33a059fd",
   "metadata": {},
   "source": [
    "Look in the Si_inputs folder and confirm that the files have been written successfully. What energy cutoff does atomate2 use by default and what is the energy and force convergence criteria?\n",
    "\n",
    "<details>\n",
    "<summary> Hint </summary>\n",
    "\n",
    "The parameters are specified by the tags:\n",
    "\n",
    "- `ENCUT`: Plane wave energy cutoff.\n",
    "- `EDIFF`: Energy convergence criteria.\n",
    "- `EDIFFG`: Force convergence criteria.\n",
    "\n",
    "</details>\n"
   ]
  },
  {
   "cell_type": "markdown",
   "id": "f35d2855",
   "metadata": {},
   "source": [
    "## Customising input sets\n",
    "\n",
    "It is very common to modify the VASP input settings for a job. Use cases include:\n",
    "\n",
    "- Tuning parallelisation settings\n",
    "- Selecting the exchange-correlation functional\n",
    "- Modifying convergence settings \n",
    "- Changing the pseudopotentials\n",
    "- Increasing the k-point sampling density\n",
    "\n",
    "All of these can be controlled through the input set generator. To understand, let's see the docstring for RelaxSetGenerator."
   ]
  },
  {
   "cell_type": "code",
   "execution_count": null,
   "id": "0e8787e6",
   "metadata": {},
   "outputs": [],
   "source": [
    "RelaxSetGenerator?"
   ]
  },
  {
   "cell_type": "markdown",
   "id": "ff2300fc",
   "metadata": {},
   "source": [
    "Unfortunately, the docstring doesn't render properly. Instead we need to look at the docstring for VaspInputGenerator. This is the superclass from which all input set makers derive."
   ]
  },
  {
   "cell_type": "code",
   "execution_count": null,
   "id": "6271c746",
   "metadata": {},
   "outputs": [],
   "source": [
    "from atomate2.vasp.sets.base import VaspInputGenerator\n",
    "\n",
    "VaspInputGenerator?"
   ]
  },
  {
   "cell_type": "markdown",
   "id": "3b800564",
   "metadata": {},
   "source": [
    "The docstring contains many options making it very flexible. In day-to-day usage of atomate2, you won't need most of these options and can instead focus on.\n",
    "- **user_incar_settings**: To set specific INCAR settings\n",
    "- **user_kpoint_settings**: For configuring the k-point mesh density\n",
    "- **user_potcar_settings**: To control specific POTCAR choice (e.g. \"Bi\" vs \"Bi_d\").\n",
    "- **user_potcar_functional**: To control the version of pseudpotentials used, e.g. \"PBE_54\" vs \"PBE_64\".\n",
    "\n",
    "For example, we can set a custom energy cutoff."
   ]
  },
  {
   "cell_type": "code",
   "execution_count": null,
   "id": "cb323081",
   "metadata": {},
   "outputs": [],
   "source": [
    "isg = RelaxSetGenerator(user_incar_settings={\"ENCUT\": 1000})"
   ]
  },
  {
   "cell_type": "markdown",
   "id": "fb23b22e",
   "metadata": {},
   "source": [
    "We can confirm this worked successfully."
   ]
  },
  {
   "cell_type": "code",
   "execution_count": null,
   "id": "34f9f062",
   "metadata": {},
   "outputs": [],
   "source": [
    "input_set = isg.get_input_set(structure, potcar_spec=True)\n",
    "incar = input_set.incar\n",
    "\n",
    "print(\"The ENCUT value is\", incar[\"ENCUT\"])"
   ]
  },
  {
   "cell_type": "markdown",
   "id": "d417f62f",
   "metadata": {},
   "source": [
    "We can configure the k-point mesh sampling in two ways, either through setting the reciprocal density (larger values indicate denser meshes) or by specifying a pymatgen [Kpoints](https://pymatgen.org/pymatgen.io.vasp.html#pymatgen.io.vasp.inputs.Kpoints) object directly. This second option is not recommended except in specific circumstances. Instead, reciprocal density is more flexibile, e.g. when creating a supercell, the k-point sampling will adjust accordingly."
   ]
  },
  {
   "cell_type": "code",
   "execution_count": null,
   "id": "926c6566",
   "metadata": {},
   "outputs": [],
   "source": [
    "from pymatgen.io.vasp import Kpoints\n",
    "\n",
    "# option 1 - reciprocal density\n",
    "isg = RelaxSetGenerator(user_kpoints_settings={\"reciprocal_density\": 200})\n",
    "\n",
    "# option 2 - Kpoints object\n",
    "kpoints = Kpoints.automatic([6, 6, 6])\n",
    "isg = RelaxSetGenerator(user_kpoints_settings=kpoints)"
   ]
  },
  {
   "cell_type": "markdown",
   "id": "127f52b7",
   "metadata": {},
   "source": [
    "As the warning indicates, it is also possible to specify the k-point mesh through the [KSPACING](https://www.vasp.at/wiki/index.php/KSPACING) INCAR tag. This is used by some of the Materials Project r2SCAN workflows. This option means the KPOINTS file is not generated."
   ]
  },
  {
   "cell_type": "code",
   "execution_count": null,
   "id": "35ea1668",
   "metadata": {},
   "outputs": [],
   "source": [
    "# option 3 - KSPACING\n",
    "isg = RelaxSetGenerator(user_incar_settings={\"KSPACING\": 0.44})\n",
    "\n",
    "input_set = isg.get_input_set(structure, potcar_spec=True)\n",
    "\n",
    "print(input_set.kpoints)"
   ]
  },
  {
   "cell_type": "markdown",
   "id": "4de735ec",
   "metadata": {},
   "source": [
    "Note, in this case, the kpoints attribute is set to None.\n",
    "\n",
    "\n",
    "We use a similar process to configure which pseudopotentials to use. Note, in most cases the default will be fine as atomate2 is configured to use the recommeneded pseudopotentials listed on the [VASP website](https://www.vasp.at/wiki/index.php/Choosing_pseudopotentials#Recommended_PAW_potentials). For example, to use the \"Bi_d\" pseudopotential for bismuth."
   ]
  },
  {
   "cell_type": "code",
   "execution_count": null,
   "id": "141d4aff",
   "metadata": {},
   "outputs": [],
   "source": [
    "isg = RelaxSetGenerator(user_potcar_settings={\"Bi\": \"Bi_d\"})"
   ]
  },
  {
   "cell_type": "markdown",
   "id": "c1af4324",
   "metadata": {},
   "source": [
    "### Activity – kpoint sampling\n",
    "\n",
    "Now you have seen how to customise input sets, it is time to practice yourself. \n",
    "The goal of this activity is to investigate which reciprocal density is equivalent to a 8x8x8 k-point mesh for Si. To achieve this you need to:\n",
    "\n",
    "1. Create an input set generator object with a specified reciprocal density.\n",
    "2. Generate the input set with the silicon structure.\n",
    "3. Determine the k-point sampling density.\n",
    "4. Repeat until you find the density that produces a 6x6x6 k-point mesh.\n",
    "\n",
    "If you get stuck, we've provided a hint below.\n",
    "\n",
    "<details>\n",
    "<summary> Hint 1 </summary>\n",
    "The k-point mesh sampling for a specific reciprocal density can be obtained with:\n",
    "</br></br>\n",
    "\n",
    "```python\n",
    "isg = RelaxSetGenerator(user_kpoints_settings={\"reciprocal_density\": 100})\n",
    "input_set = isg.get_input_set(structure, potcar_spec=True)\n",
    "kpoints = input_set.kpoints\n",
    "print(kpoints.kpts)\n",
    "```\n",
    "</details>\n",
    "\n",
    "</br>\n",
    "\n",
    "<details>\n",
    "<summary> Answer </summary>\n",
    "Putting the hints together, you could loop over a few densities\n",
    "</br></br>\n",
    "\n",
    "```python\n",
    "for density in range(100, 500, 50):\n",
    "    isg = RelaxSetGenerator(user_kpoints_settings={\"reciprocal_density\": density})\n",
    "    input_set = isg.get_input_set(structure, potcar_spec=True)\n",
    "    kpoints = input_set.kpoints\n",
    "    print(f\"reciprocal_density {density} = {kpoints.kpts}\")\n",
    "```\n",
    "\n",
    "The answer is something around 350 reciprocal density.\n",
    "</details>\n"
   ]
  },
  {
   "cell_type": "code",
   "execution_count": null,
   "id": "5c5c1845",
   "metadata": {},
   "outputs": [],
   "source": [
    "# Use this space to solve the activity\n",
    "\n"
   ]
  },
  {
   "cell_type": "markdown",
   "id": "5ec884dc",
   "metadata": {},
   "source": [
    "## Using custom inputs in a job\n",
    "\n",
    "So far we have just been updating the input set generator. Now we will update the job Maker to use the custom settings. To do this, we can override the input_set_generator field of the Maker."
   ]
  },
  {
   "cell_type": "code",
   "execution_count": null,
   "id": "d91ab131",
   "metadata": {},
   "outputs": [],
   "source": [
    "isg = RelaxSetGenerator(user_incar_settings={\"ENCUT\": 600})\n",
    "rm = RelaxMaker(input_set_generator=isg)"
   ]
  },
  {
   "cell_type": "markdown",
   "id": "65fd6b9c",
   "metadata": {},
   "source": [
    "While this looks simple here, for most practial workflows this can get quite tricky as you always have to make sure to select the correct input set generator for each Maker. For example, consider the case where we are trying to update the ENCUT for the band structure workflow. \n",
    "\n",
    "This workflow includes the following calculations:\n",
    "- A static calculation to generate the charge density.\n",
    "- A line-mode band structure non-self consistent field (NSCF) calculation\n",
    "- A uniform band structure NSCF calculation.\n",
    "\n",
    "This workflow has two Makers as arguments, a static maker and NSCF maker. We have to update both the input set generators and makers to customise the workflow."
   ]
  },
  {
   "cell_type": "code",
   "execution_count": null,
   "id": "06c65de6",
   "metadata": {},
   "outputs": [],
   "source": [
    "from atomate2.vasp.flows.core import BandStructureMaker\n",
    "from atomate2.vasp.sets.core import StaticSetGenerator, NonSCFSetGenerator\n",
    "from atomate2.vasp.jobs.core import StaticMaker, NonSCFMaker\n",
    "\n",
    "custom_settings = {\"ENCUT\": 600}\n",
    "\n",
    "# customise the input sets\n",
    "ssg = StaticSetGenerator(user_incar_settings=custom_settings)\n",
    "nsg = NonSCFSetGenerator(user_incar_settings=custom_settings)\n",
    "\n",
    "# customise the job makers\n",
    "sm = StaticMaker(input_set_generator=ssg)\n",
    "nsm = NonSCFMaker(input_set_generator=nsg)\n",
    "\n",
    "# customise the flow maker\n",
    "maker = BandStructureMaker(\n",
    "    static_maker=sm,\n",
    "    bs_maker=nsm,\n",
    ")"
   ]
  },
  {
   "cell_type": "markdown",
   "id": "1ad8faed",
   "metadata": {},
   "source": [
    "An alternative approach is to update the input set generator directly."
   ]
  },
  {
   "cell_type": "code",
   "execution_count": null,
   "id": "53f34583",
   "metadata": {},
   "outputs": [],
   "source": [
    "rm = RelaxMaker()\n",
    "rm.input_set_generator.user_incar_settings[\"ENCUT\"] = 600"
   ]
  },
  {
   "cell_type": "markdown",
   "id": "ebf46714",
   "metadata": {},
   "source": [
    "But this is also cumbersome for nested flows, and requires knowledge of the specific makers in the workflow."
   ]
  },
  {
   "cell_type": "code",
   "execution_count": null,
   "id": "70cd03dd",
   "metadata": {},
   "outputs": [],
   "source": [
    "maker = BandStructureMaker()\n",
    "maker.static_maker.input_set_generator.user_incar_settings[\"ENCUT\"] = 600\n",
    "maker.bs_maker.input_set_generator.user_incar_settings[\"ENCUT\"] = 600"
   ]
  },
  {
   "cell_type": "markdown",
   "id": "e7fead8e",
   "metadata": {},
   "source": [
    "This same process can be achieved using the update_maker_kwargs function of a Flow or job object."
   ]
  },
  {
   "cell_type": "code",
   "execution_count": null,
   "id": "71c10919",
   "metadata": {},
   "outputs": [],
   "source": [
    "flow = BandStructureMaker().make(structure)\n",
    "\n",
    "flow.update_maker_kwargs(\n",
    "    {\"_set\": {\"input_set_generator->user_incar_settings->ENCUT\": 600}},\n",
    "    dict_mod=True,\n",
    ")"
   ]
  },
  {
   "cell_type": "markdown",
   "id": "8600cd70",
   "metadata": {},
   "source": [
    "However, this code is quite complicated not very user friendly. A better approach is to use powerups.\n",
    "\n",
    "## Using powerups\n",
    "\n",
    "Powerups provide a convenient tool to customisation.\n",
    "Powerups take jobs, flows, or Maker as input and return a modified copy.\n",
    "We have developed custom powerups specific for the VASP workflows in atomate2.\n",
    "\n",
    "To start with, let's use the update_user_incar_settings powerup to modify input generator settings. In atomate2, powerups live in either\n",
    "\n",
    "```python\n",
    "# common powerups\n",
    "atomate2.common.powerups\n",
    "\n",
    "# vasp powerups\n",
    "atomate2.vasp.powerups\n",
    "```"
   ]
  },
  {
   "cell_type": "code",
   "execution_count": null,
   "id": "20689f37",
   "metadata": {},
   "outputs": [],
   "source": [
    "from atomate2.vasp.powerups import update_user_incar_settings\n",
    "\n",
    "flow = BandStructureMaker().make(structure)\n",
    "flow = update_user_incar_settings(flow, {\"ENCUT\": 600})"
   ]
  },
  {
   "cell_type": "markdown",
   "id": "cfd99dea",
   "metadata": {},
   "source": [
    "This is much cleaner than any previous method. We can also use the filtering options to only update specific parts of the workflow. Two options are available, filtering by name or class."
   ]
  },
  {
   "cell_type": "code",
   "execution_count": null,
   "id": "4b018c12",
   "metadata": {},
   "outputs": [],
   "source": [
    "# filtering by name\n",
    "flow = update_user_incar_settings(flow, {\"ENCUT\": 600}, name_filter=\"static\")\n",
    "\n",
    "# filtering by class\n",
    "flow = update_user_incar_settings(flow, {\"ENCUT\": 600}, class_filter=StaticMaker)"
   ]
  },
  {
   "cell_type": "markdown",
   "id": "40ef5c2e",
   "metadata": {},
   "source": [
    "### Activity - powerups\n",
    "\n",
    "Now you have seen how to use powerups, it is time to practice yourself.\n",
    "The goal of this activity is to explore the other VASP powerups available in atomate2.\n",
    "Specifically, can you figure out how to perform the following updates:\n",
    "\n",
    "1. Update the k-point reciprocal_density for all calculations to 200.\n",
    "2. Update the potcar functional to LDA.\n",
    "\n",
    "If you get stuck, we've provided a hint below.\n",
    "\n",
    "<details>\n",
    "<summary> Hint 1 </summary>\n",
    "\n",
    "You can see the powerups available on the atomate2 VASP [powerups](https://materialsproject.github.io/atomate2/reference/atomate2.vasp.powerups.html) page.\n",
    "</details>\n",
    "\n",
    "</br>\n",
    "\n",
    "<details>\n",
    "<summary> Hint 2 </summary>\n",
    "You need to use the functions:\n",
    "\n",
    "- [update_user_kpoints](https://materialsproject.github.io/atomate2/reference/atomate2.vasp.powerups.update_user_kpoints_settings.html#atomate2.vasp.powerups.update_user_kpoints_settings) \n",
    "- [update_user_potcar_functional](https://materialsproject.github.io/atomate2/reference/atomate2.vasp.powerups.update_user_potcar_functional.html#atomate2.vasp.powerups.update_user_potcar_functional)\n",
    "</details>\n",
    "\n",
    "</br>\n",
    "\n",
    "<details>\n",
    "<summary> Answer </summary>\n",
    "Putting the hints together, you can solve the problem using:\n",
    "</br></br>\n",
    "\n",
    "```python\n",
    "from atomate2.vasp.powerups import update_user_kpoints_settings, update_user_potcar_functional\n",
    "\n",
    "flow = BandStructureMaker().make(structure)\n",
    "flow = update_user_kpoints_settings(flow, {\"reciprocal_density\": 200})\n",
    "flow = update_user_potcar_functional(flow, \"LDA\")\n",
    "```\n",
    "</details>\n",
    "\n"
   ]
  },
  {
   "cell_type": "code",
   "execution_count": null,
   "id": "9f5e6520",
   "metadata": {},
   "outputs": [],
   "source": [
    "# Use this space to solve the activity\n"
   ]
  },
  {
   "cell_type": "markdown",
   "id": "54618814",
   "metadata": {},
   "source": [
    "## Database management through metadata\n",
    "\n",
    "When running high-throughput workflows, managing your data is key challenge.\n",
    "You might be used to using your folder structure to organise calculations, however, this won't scale to thousands of systems and codes like jobflow-remote use a flat directory structure based on the time a calculation ran. \n",
    "Instead of accessing output files on disk, you instead access calculation outputs via the database.\n",
    "\n",
    "The easiest way to make sense of your calculations (which often cover multiple projects, levels of theory, versions of parameters, etc) is through metadata. Typically, this should be information that is not readily available from the rest of the task document and might include:\n",
    "\n",
    "- Materials Project ID of the material\n",
    "- Project name or number\n",
    "- Author of the calculations\n",
    "- Crystal phase\n",
    "- Version of the calculation settings\n",
    "\n",
    "Jobflow has an inbuild approach to adding metadata to calculations. It automatically gets stored alongside the calculation output. Lets create a workflow with metadata now:"
   ]
  },
  {
   "cell_type": "code",
   "execution_count": null,
   "id": "44f8e860",
   "metadata": {},
   "outputs": [],
   "source": [
    "relax_job = RelaxMaker().make(structure)\n",
    "relax_job.update_metadata(\n",
    "    {\n",
    "        \"author\": \"Alex\", \n",
    "        \"project\": \"cecam-school\", \n",
    "        \"tags\": [\"GGA\", \"v1\"]\n",
    "    }\n",
    ")"
   ]
  },
  {
   "cell_type": "markdown",
   "id": "fbbb31d2",
   "metadata": {},
   "source": [
    "The structure of the metadata is completely up to you - there is no correct answer. The guiding principle is that it should make your calculations easier to manage once they are completed. It can often be useful to think carefully about the potential future steps of the project and design the metadata accordingly.\n",
    "\n",
    "Lets now submit our calculation using jobflow-remote. If this looks unfamiliar, look over the resources from the first atomate2 session for a refresh."
   ]
  },
  {
   "cell_type": "code",
   "execution_count": null,
   "id": "a99c9e43",
   "metadata": {},
   "outputs": [],
   "source": [
    "from jobflow_remote import submit_flow\n",
    "\n",
    "submit_flow(\n",
    "    relax_job, \n",
    "    worker=\"cecam\",\n",
    "    resources={\"nodes\": 1, \"ntasks\": 36, \"time\": \"03:00:00\"} , \n",
    "    exec_config=\"vasp_6.4.3_cecam\"\n",
    ")"
   ]
  },
  {
   "cell_type": "markdown",
   "id": "b9098109",
   "metadata": {},
   "source": [
    "You can check the status of the calculation with:"
   ]
  },
  {
   "cell_type": "code",
   "execution_count": null,
   "id": "72b26b01",
   "metadata": {},
   "outputs": [],
   "source": [
    "! jf job info {relax_job.uuid}"
   ]
  },
  {
   "cell_type": "markdown",
   "id": "09423596-4bce-4cf9-b4f0-f9fec5661b53",
   "metadata": {},
   "source": [
    "Remember, if the jobflow-remote runner is not started, you can start it with:\n",
    "\n",
    "```bash\n",
    "! jf runner start\n",
    "```"
   ]
  },
  {
   "cell_type": "markdown",
   "id": "b3b80af5",
   "metadata": {},
   "source": [
    "Once the job has finished running, we use the metadata to query it from the job store. Note, in this case we have access to the job uuid, so we could simply query the output that way, but in the future you likely won't have the uuid to hand."
   ]
  },
  {
   "cell_type": "code",
   "execution_count": null,
   "id": "3efa1ad8",
   "metadata": {},
   "outputs": [],
   "source": [
    "from jobflow_remote import get_jobstore\n",
    "\n",
    "store = get_jobstore()\n",
    "store.connect()\n",
    "\n",
    "result = store.query_one({\"metadata.project\": \"cecam-school\", \"metadata.tags\": \"v1\"})"
   ]
  },
  {
   "cell_type": "markdown",
   "id": "78ae454a-82e6-4844-b183-b93f6dbfda84",
   "metadata": {},
   "source": [
    "Currently, result is a raw dictionary, but we can convert it into the task document by deserialising it with monty."
   ]
  },
  {
   "cell_type": "code",
   "execution_count": null,
   "id": "54fa900a-6542-4a29-a70c-a436652e111c",
   "metadata": {},
   "outputs": [],
   "source": [
    "from monty.json import MontyDecoder\n",
    "\n",
    "result = MontyDecoder().process_decoded(result)"
   ]
  },
  {
   "cell_type": "markdown",
   "id": "944310b9-0a75-4a04-b9f1-0b7e9ec7e498",
   "metadata": {},
   "source": [
    "We can now navigate the task document more easily."
   ]
  },
  {
   "cell_type": "code",
   "execution_count": null,
   "id": "49c0a4f0",
   "metadata": {},
   "outputs": [],
   "source": [
    "print(f\"\"\"metadata {result.metadata}\n",
    "energy {result.output.output.energy}\n",
    "functional {result.output.input.incar[\"GGA\"]}\"\"\")"
   ]
  },
  {
   "cell_type": "markdown",
   "id": "3f6f1fa1-5543-4f50-aa04-221bc0e033a2",
   "metadata": {},
   "source": [
    "## Advanced database queries\n",
    "\n",
    "Often you want to search your database for very specific calculations. For example, all calculations containing oxygen but not hydrogen, calculated using the PBEsol functional. Predicting how to structure your metadata in advance to enable this query would be extremely difficult and require signficant forsight and vision for the project direction. However, the task document includes a large amount of \"standard\" metadata that makes this possible when combined with advanced mongoDB queries.\n",
    "\n",
    "To see how to construct these queries, lets first run static calculations for a number of alkaline earth rocksalt metal oxides."
   ]
  },
  {
   "cell_type": "code",
   "execution_count": null,
   "id": "09487727-d45c-44cf-b4b8-f51ed866801c",
   "metadata": {},
   "outputs": [],
   "source": [
    "from pymatgen.core import Structure\n",
    "from atomate2.vasp.jobs.core import StaticMaker\n",
    "\n",
    "sm = StaticMaker()\n",
    "\n",
    "for metal in [\"Mg\", \"Ca\", \"Sr\"]:\n",
    "    structure = Structure.from_spacegroup(\n",
    "        \"Fm-3m\",\n",
    "        [[5, 0, 0], [0, 5, 0], [0, 0, 5]],\n",
    "        [metal, \"O\"],\n",
    "        [[0.0, 0.0, 0.0], [0.5, 0.5, 0.5]]\n",
    "    )\n",
    "\n",
    "    static_job = sm.make(structure)\n",
    "    static_job.update_metadata({\"author\": \"Alex\", \"project\": \"metal-oxides\"})\n",
    "\n",
    "    submit_flow(\n",
    "        static_job, \n",
    "        worker=\"cecam\",\n",
    "        resources={\"nodes\": 1, \"ntasks\": 36, \"time\": \"03:00:00\"} , \n",
    "        exec_config=\"vasp_6.4.3_cecam\"\n",
    "    )"
   ]
  },
  {
   "cell_type": "markdown",
   "id": "d30262b0-968f-4429-8f50-5d9e93ec3a45",
   "metadata": {},
   "source": [
    "We can monitor the progress of these jobs using some jobflow-remote magic."
   ]
  },
  {
   "cell_type": "code",
   "execution_count": null,
   "id": "bb7533f8-20b3-4de1-94e8-56f01d5bf918",
   "metadata": {},
   "outputs": [],
   "source": [
    "! jf job list --hours 1 --name \"static\""
   ]
  },
  {
   "cell_type": "markdown",
   "id": "8c07a698-90ca-4ef4-8c9a-e9969a01dd04",
   "metadata": {},
   "source": [
    "Once they are all COMPLETED, we can develop some queries. Let's start by simply querying for all static calculations containing oxygen."
   ]
  },
  {
   "cell_type": "code",
   "execution_count": null,
   "id": "42af26b9-6ea1-4bbe-ab54-34a17ad431d0",
   "metadata": {},
   "outputs": [],
   "source": [
    "results = store.query({\"output.elements\": \"O\"})\n",
    "\n",
    "for result in results:\n",
    "    print(result[\"output\"][\"formula_pretty\"])"
   ]
  },
  {
   "cell_type": "markdown",
   "id": "80b25407-84fe-46a6-a6ee-2bacfdeccee8",
   "metadata": {},
   "source": [
    "Next, lets get all outputs that contain oxygen but not Sr."
   ]
  },
  {
   "cell_type": "code",
   "execution_count": null,
   "id": "4edd6b2a-bc2e-44f2-afec-8570f1750119",
   "metadata": {},
   "outputs": [],
   "source": [
    "results = store.query(\n",
    "    {\n",
    "        \"$and\": [\n",
    "            {\"output.elements\": \"O\"}, \n",
    "            {\"output.elements\": {\"$ne\": \"Sr\"}}\n",
    "        ]\n",
    "    }\n",
    ")\n",
    "\n",
    "for result in results:\n",
    "    print(result[\"output\"][\"formula_pretty\"])"
   ]
  },
  {
   "cell_type": "markdown",
   "id": "3028f213-ef41-4a16-9609-ae41cff37be5",
   "metadata": {},
   "source": [
    "What about outputs that contain either CaO or Si:"
   ]
  },
  {
   "cell_type": "code",
   "execution_count": null,
   "id": "f152a364-4714-42fd-afcc-5bc7521f5be2",
   "metadata": {},
   "outputs": [],
   "source": [
    "results = store.query(\n",
    "    {\n",
    "        \"$or\": [\n",
    "            {\"output.formula_pretty\": {\"$all\": [\"Ca\", \"O\"]}}, \n",
    "            {\"output.elements\": \"Si\"}\n",
    "        ]\n",
    "    }\n",
    ")\n",
    "\n",
    "for result in results:\n",
    "    print(result[\"output\"][\"formula_pretty\"])"
   ]
  },
  {
   "cell_type": "markdown",
   "id": "98f6eafb-9724-43fd-8f61-3c5671800092",
   "metadata": {},
   "source": [
    "As a reminder from the tutorial, a wide range of queries are available. \n",
    "\n",
    "| Operation            | Syntax                        | Example                             |\n",
    "|----------------------|-----------------------------|-------------------------------------|\n",
    "| **Comparison queries** | | |\n",
    "| Equality            | `{\"key\": \"value\"}`           | `{\"formula\" : \"SiO2\"}`             |\n",
    "| Less Than          | `{\"key\": {\"$lt\": \"value\"}}`  | `{\"nsites\" : {\"$lt\": 4}}`          |\n",
    "| Less Than/Equal to | `{\"key\": {\"$lte\": \"value\"}}` | `{\"nsites\" : {\"$lte\": 3}}`         |\n",
    "| Greater Than       | `{\"key\": {\"$gt\": \"value\"}}`  | `{\"nsites\" : {\"$gt\": 5}}`          |\n",
    "| Greater Than/Equal to | `{\"key\": {\"$gte\": \"value\"}}` | `{\"nsites\" : {\"$gte\": 5}}`         |\n",
    "| Not Equal to       | `{\"key\": {\"$ne\": \"value\"}}`  | `{\"formula\" : {\"$ne\": \"SiO2\"}}`    |\n",
    "| Value is in       | `{\"key\": {\"$in\": [<v1>, …]}}` | `{\"nsites\" : {\"$in\": [1, 2]}}`     |\n",
    "| Value is Not in   | `{\"key\": {\"$nin\": [<v1>, …]}}` | `{\"formula\" : {\"$nin\": [\"SiO2\"]}}` |\n",
    "| Contains all      | `{\"key\": {\"$all\": [<v1>, …]}}` | `{\"elements\": {\"$all\": [\"H\", \"O\"]}}` |\n",
    "| **Logical queries**| | |\n",
    "| AND | `{\"key\": {\"$and\": [<c1>, <c2>, …]}}` | `{\"elements\": {\"$and\": [{\"$all\": [\"O\", \"Ni\"]}, {\"$nin\": [\"H\", \"F\"]}]}}` |\n",
    "| NOT | `{\"key\": {\"$not\": [<c1>, <c2>, …]}}` | `{\"elements\": {\"$not\": [{\"$all\": [\"O\", \"Ni\"]}, {\"$nin\": [\"H\", \"F\"]}]}}` |\n",
    "| OR | `{\"key\": {\"$or\": [<c1>, <c2>, …]}}` | `{\"elements\": {\"$or\": [{\"$all\": [\"O\", \"Ni\"]}, {\"$nin\": [\"H\", \"F\"]}]}}` |\n",
    "\n",
    "\n",
    "### Activity - queries\n",
    "\n",
    "Now you have seen how to use mongoDB queries, it is time to practice yourself.\n",
    "The goal of this activity is to construct the queries to select the right calculations.\n",
    "Specifically, you should try and filter for the following (separate) criteria.\n",
    "\n",
    "1. Calculations containing oxygen with an energy less than -6 eV/atom.\n",
    "2. Calculations with more than 1 element but not containing Ca\n",
    "\n",
    "If you get stuck, we've provided hints below.\n",
    "\n",
    "<details>\n",
    "<summary> Hint Query 1 </summary>\n",
    "\n",
    "The task document fields you want to filter on are:\n",
    "\n",
    "- \"output.elements\"\n",
    "- \"output.output.energy_per_atom\"\n",
    "\n",
    "</details>\n",
    "\n",
    "</br>\n",
    "\n",
    "<details>\n",
    "<summary> Hint Query 2 </summary>\n",
    "    \n",
    "The task document fields you want to filter on are:\n",
    "\n",
    "- \"output.nelements\"\n",
    "- \"output.elements\"</details>\n",
    "\n",
    "</br>\n",
    "\n",
    "<details>\n",
    "<summary> Answer </summary>\n",
    "Putting the hints together, you can solve the problem using:\n",
    "</br></br>\n",
    "\n",
    "```python\n",
    "# query 1\n",
    "results = store.query({\"output.elements\": \"O\", \"output.output.energy_per_atom\": {\"$lt\": -6}})\n",
    "\n",
    "# query 2\n",
    "results = store.query({\"output.nelements\": {\"$gt\": 1}, \"output.elements\": {\"$ne\": \"Ca\"}})\n",
    "```\n",
    "</details>\n",
    "\n"
   ]
  },
  {
   "cell_type": "code",
   "execution_count": null,
   "id": "73f82125-bff3-409f-b94b-8829a0e617df",
   "metadata": {},
   "outputs": [],
   "source": [
    "# Use this space to solve the activity\n",
    "\n"
   ]
  },
  {
   "cell_type": "markdown",
   "id": "794281f8-11b7-4541-8491-abc42d40e916",
   "metadata": {},
   "source": [
    "## Chaining jobs\n",
    "\n",
    "So far we have run pre-prepared VASP workflows and jobs but often you'll want to combine them in novel ways. To do this, let's make the most basic multi-stage workflow - a relaxation followed by a static."
   ]
  },
  {
   "cell_type": "code",
   "execution_count": null,
   "id": "d10b6460-8c4a-409b-8992-21f781673e9d",
   "metadata": {},
   "outputs": [],
   "source": [
    "from jobflow import Flow\n",
    "\n",
    "structure = Structure.from_file(\"Si.vasp\")\n",
    "\n",
    "relax_job = RelaxMaker().make(structure)\n",
    "static_job = StaticMaker().make(\n",
    "    relax_job.output.structure,\n",
    "    prev_dir=relax_job.output.dir_name\n",
    ")\n",
    "flow = Flow([relax_job, static_job])\n",
    "flow.update_metadata({\"author\": \"alex\", \"project\": \"cecam-custom-flow\"})"
   ]
  },
  {
   "cell_type": "markdown",
   "id": "a03cd4e8-a656-444e-8dc7-58f677096501",
   "metadata": {},
   "source": [
    "The aspects of this process are:\n",
    "\n",
    "1. Using the output structure of the relax job as input to the static job.\n",
    "2. Passing the directory of the relax job to the prev_dir keyword argument of the static job.\n",
    "3. Putting the relax and static jobs into a Flow.\n",
    "4. Updating the metadata in the same way for flows as for jobs.\n",
    "\n",
    "In principle, we could skip step 2 and not pass the previous directory. However, this has several advantages:\n",
    "\n",
    "- It allows optimisations in the input set, for example disabling spin polarisation if the magnetic moments are zero.\n",
    "- It enables copying VASP outputs like CHGCAR from a previous directory (useful for band structure flows).\n",
    "\n",
    "We can now run our Flow."
   ]
  },
  {
   "cell_type": "code",
   "execution_count": null,
   "id": "6260fe09-37e8-43f4-be4a-af70b3b7f8db",
   "metadata": {},
   "outputs": [],
   "source": [
    "submit_flow(\n",
    "    flow, \n",
    "    worker=\"cecam\",\n",
    "    resources={\"nodes\": 1, \"ntasks\": 36, \"time\": \"03:00:00\"} , \n",
    "    exec_config=\"vasp_6.4.3_cecam\"\n",
    ")"
   ]
  },
  {
   "cell_type": "markdown",
   "id": "7e7a749d-8307-4047-b75f-b251317c526f",
   "metadata": {},
   "source": [
    "And check the status using jobflow remote."
   ]
  },
  {
   "cell_type": "code",
   "execution_count": null,
   "id": "45627b48-7e44-4c1c-8e4d-d39a04dd25b6",
   "metadata": {},
   "outputs": [],
   "source": [
    "! jf flow info {flow.uuid}"
   ]
  },
  {
   "cell_type": "markdown",
   "id": "f2139f07-db57-4fd0-8c64-9ccaa56f1c21",
   "metadata": {},
   "source": [
    "Finally, we can get the final relaxed structure and energy."
   ]
  },
  {
   "cell_type": "code",
   "execution_count": null,
   "id": "afab79e5-d179-4bea-ab72-8dd16a1fb12f",
   "metadata": {},
   "outputs": [],
   "source": [
    "result = store.query_one({\"metadata.project\": \"cecam-custom-flow\", \"name\": \"static\"})\n",
    "result = MontyDecoder().process_decoded(result)\n",
    "\n",
    "print(f\"\"\"Relaxed structure\n",
    "{result.output.structure}\n",
    "\n",
    "Relaxed energy\n",
    "{result.output.output.energy}\"\"\")"
   ]
  },
  {
   "cell_type": "markdown",
   "id": "eb696167-8774-4b90-ace3-2444588f6e9e",
   "metadata": {},
   "source": [
    "#### Writing a simple workflow\n",
    "\n",
    "Let's now use these principles to write a more thorough workflow. In particular, we will create a workflow to calculate the equation of state (energy volume curve). We'll create a Maker to achieve this.\n",
    "\n",
    "The overall process is as follows:\n",
    "\n",
    "1. Take a structure as input.\n",
    "2. Scale the volume ±3% in steps of 1%\n",
    "3. Run a static calculation for each volume.\n",
    "\n",
    "We will then perform post-processing to plot the results."
   ]
  },
  {
   "cell_type": "code",
   "execution_count": null,
   "id": "7e66b7c8-0720-4dbb-9533-f8d3099f6a87",
   "metadata": {},
   "outputs": [],
   "source": [
    "from dataclasses import dataclass, field\n",
    "from jobflow import Maker\n",
    "\n",
    "@dataclass\n",
    "class EOSMaker(Maker):\n",
    "    name: str = \"eos\"\n",
    "    strains: tuple[int] = (-3, -2, -1, 0, 1, 2, 3)\n",
    "    static_maker: Maker = field(default_factory=StaticMaker)\n",
    "\n",
    "    def make(self, structure):\n",
    "        jobs = []\n",
    "        \n",
    "        for strain in self.strains:\n",
    "            strain_percent = strain / 100\n",
    "            strain_structure = structure.apply_strain(\n",
    "                strain_percent,\n",
    "                inplace=False  # don't update the original structure\n",
    "            )\n",
    "            \n",
    "            static_job = self.static_maker.make(strain_structure)\n",
    "            jobs.append(static_job)\n",
    "\n",
    "        return Flow(jobs)"
   ]
  },
  {
   "cell_type": "markdown",
   "id": "a196f062-308b-43b2-99fc-26d7a1b8bd38",
   "metadata": {},
   "source": [
    "Read through the code and try and understand the overall structure.\n",
    "One thing that may not be familiar is `field(default_factory=StaticMaker)`. This sets the default value of the static maker.\n",
    "\n",
    "Lets run the workflow on silicon and submit it to the cluster."
   ]
  },
  {
   "cell_type": "code",
   "execution_count": null,
   "id": "211eada0-1607-4e5d-8a8d-ade65c648e05",
   "metadata": {},
   "outputs": [],
   "source": [
    "flow = EOSMaker().make(structure)\n",
    "flow.update_metadata({\"author\": \"alex\", \"project\": \"cecam-eos\"})"
   ]
  },
  {
   "cell_type": "code",
   "execution_count": null,
   "id": "eaa93ddf-219f-483f-8eaa-689825f18b22",
   "metadata": {},
   "outputs": [],
   "source": [
    "submit_flow(\n",
    "    flow, \n",
    "    worker=\"cecam\",\n",
    "    resources={\"nodes\": 1, \"ntasks\": 36, \"time\": \"03:00:00\"} , \n",
    "    exec_config=\"vasp_6.4.3_cecam\"\n",
    ")"
   ]
  },
  {
   "cell_type": "markdown",
   "id": "234d3b3f-0f51-4663-9668-24b209e048a2",
   "metadata": {},
   "source": [
    "And check the status using jobflow remote."
   ]
  },
  {
   "cell_type": "code",
   "execution_count": null,
   "id": "1c8764f4-be94-4b1d-89a2-f544e70e2c53",
   "metadata": {},
   "outputs": [],
   "source": [
    "! jf flow info {flow.uuid}"
   ]
  },
  {
   "cell_type": "markdown",
   "id": "4f74fed4-ff6e-4a3f-a32d-158f688e3a9d",
   "metadata": {},
   "source": [
    "We can now query for the relevant task documents and extract the energies and volumes."
   ]
  },
  {
   "cell_type": "code",
   "execution_count": null,
   "id": "9385e7ae-2af8-44f0-9a2b-c6ed43b29792",
   "metadata": {},
   "outputs": [],
   "source": [
    "results = store.query({\"metadata.project\": \"cecam-eos\"})\n",
    "\n",
    "volumes = []\n",
    "energies = []\n",
    "\n",
    "for result in results:\n",
    "    volumes.append(result[\"output\"][\"output\"][\"structure\"][\"lattice\"][\"volume\"])\n",
    "    energies.append(result[\"output\"][\"output\"][\"energy\"])"
   ]
  },
  {
   "cell_type": "markdown",
   "id": "8e49dc34-71a5-4d57-8930-b382e9c5354e",
   "metadata": {},
   "source": [
    "Finally, let's plot the results."
   ]
  },
  {
   "cell_type": "code",
   "execution_count": null,
   "id": "511d5c8d-6553-4330-b415-597dbcc06873",
   "metadata": {},
   "outputs": [],
   "source": [
    "import matplotlib.pyplot as plt\n",
    "\n",
    "fig, ax = plt.subplots()\n",
    "ax.plot(volumes, energies, \"-o\")\n",
    "ax.set(xlabel=\"Volume (Å$^3$)\", ylabel=\"Energy (eV)\")"
   ]
  },
  {
   "cell_type": "markdown",
   "id": "a183577f-d178-44ec-9544-3ce2cd9b3894",
   "metadata": {},
   "source": [
    "### Activity - creating workflows\n",
    "\n",
    "Now you have seen how to use chain and construct simple workflows, it is time to practice yourself.\n",
    "The goal of this activity is to construct a flow maker to interpolate between two structures and calculate the potential energy surface.\n",
    "Specifically, the tasks you should aim to achieve are:\n",
    "\n",
    "1. Create a flow maker with the following fields:\n",
    "   - nimages: defining the number of interpolated structures along the path with a default value of 5\n",
    "   - static_maker: defining the static calculation job maker\n",
    "2. Define a make method on the maker that accepts two structures as inputs, one called initial_structure and one called final_structure.\n",
    "3. Generate the interpolated structures along the path, create static jobs for each of them, and return a Flow with the jobs.\n",
    "\n",
    "You should use the `interpolate` function of the pymatgen structure object to help with the interpolation. You can see the docstring below.\n",
    "\n",
    "We have provided a hint below if you get stuck.\n",
    "\n",
    "<details>\n",
    "<summary> Hint </summary>\n",
    "\n",
    "The interpolated structures can be generated using:\n",
    "\n",
    "```python\n",
    "structures = initial_structure.interpolate(final_structure, nimages)\n",
    "```\n",
    "\n",
    "</details>\n",
    "\n",
    "</br>\n",
    "\n",
    "<details>\n",
    "<summary> Answer </summary>\n",
    "Putting the hints together, you can solve the problem using:\n",
    "</br></br>\n",
    "\n",
    "```python\n",
    "from dataclasses import dataclass, field\n",
    "from jobflow import Maker\n",
    "\n",
    "@dataclass\n",
    "class InterpolateMaker(Maker):\n",
    "    name: str = \"interpolate\"\n",
    "    nimages: int = 5\n",
    "    static_maker: Maker = field(default_factory=StaticMaker)\n",
    "\n",
    "    def make(self, initial_structure, final_structure):\n",
    "        jobs = []\n",
    "\n",
    "        structures = initial_structure.interpolate(\n",
    "            final_structure,\n",
    "            nimages=self.nimages\n",
    "        )\n",
    "        for structure in structures:\n",
    "            static_job = self.static_maker.make(structure)\n",
    "            jobs.append(static_job)\n",
    "\n",
    "        return Flow(jobs)\n",
    "\n",
    "flow = InterpolateMaker().make(initial_structure, final_structure)\n",
    "flow.update_metadata({\"author\": \"alex\", \"project\": \"cecam-interpolate\"})\n",
    "\n",
    "submit_flow(\n",
    "    flow, \n",
    "    worker=\"cecam\",\n",
    "    resources={\"nodes\": 1, \"ntasks\": 36, \"time\": \"03:00:00\"} , \n",
    "    exec_config=\"vasp_6.4.3_cecam\"\n",
    ")\n",
    "\n",
    "results = store.query({\"metadata.project\": \"cecam-interpolate\"})\n",
    "\n",
    "energies = []\n",
    "for result in results:\n",
    "    energies.append(result[\"output\"][\"output\"][\"energy\"])\n",
    "\n",
    "fig, ax = plt.subplots()\n",
    "ax.plot(energies, \"-o\")\n",
    "ax.set(xlabel=\"Image\", ylabel=\"Energy (eV)\")\n",
    "```\n",
    "</details>\n",
    "\n"
   ]
  },
  {
   "cell_type": "code",
   "execution_count": null,
   "id": "c42fdf7b-c815-4be4-bc30-263c0a577343",
   "metadata": {},
   "outputs": [],
   "source": [
    "structure.interpolate?"
   ]
  },
  {
   "cell_type": "code",
   "execution_count": null,
   "id": "1286e01b-f8ea-41af-9a93-4a66a810b672",
   "metadata": {},
   "outputs": [],
   "source": [
    "# Load initial and final structures\n",
    "initial_structure = Structure.from_file(\"BP_rocksalt.cif\")\n",
    "final_structure = Structure.from_file(\"BP_zincblende.cif\")\n",
    "\n",
    "# Use this space to solve the activity\n",
    "\n"
   ]
  }
 ],
 "metadata": {
  "kernelspec": {
   "display_name": "Python 3 (ipykernel)",
   "language": "python",
   "name": "python3"
  },
  "language_info": {
   "codemirror_mode": {
    "name": "ipython",
    "version": 3
   },
   "file_extension": ".py",
   "mimetype": "text/x-python",
   "name": "python",
   "nbconvert_exporter": "python",
   "pygments_lexer": "ipython3",
   "version": "3.12.9"
  }
 },
 "nbformat": 4,
 "nbformat_minor": 5
}
